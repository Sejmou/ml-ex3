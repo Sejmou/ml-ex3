{
 "cells": [
  {
   "cell_type": "code",
   "execution_count": 52,
   "metadata": {
    "id": "VF6BJFbT5fvA"
   },
   "outputs": [],
   "source": [
    "from typing import List\n",
    "import time\n",
    "import sklearn.metrics.pairwise as sklearn_pairwise\n",
    "from sklearn.neighbors import KNeighborsClassifier\n",
    "import cv2\n",
    "import numpy as np\n",
    "from sklearn.cluster import KMeans\n",
    "import random\n",
    "import time\n",
    "from sklearn.cluster import MiniBatchKMeans\n",
    "from scipy.cluster.vq import kmeans,vq\n",
    "import matplotlib.pyplot as plt"
   ]
  },
  {
   "cell_type": "code",
   "execution_count": 53,
   "metadata": {
    "colab": {
     "base_uri": "https://localhost:8080/"
    },
    "id": "v1DLY9XpI5Er",
    "outputId": "d2774351-76e5-443f-aef1-a46c926ece27"
   },
   "outputs": [],
   "source": [
    "#!pip install opencv-contrib-python==3.4.2.17"
   ]
  },
  {
   "cell_type": "markdown",
   "metadata": {
    "id": "9Yj445K-5shn"
   },
   "source": [
    "# Load data"
   ]
  },
  {
   "cell_type": "code",
   "execution_count": 54,
   "metadata": {
    "colab": {
     "base_uri": "https://localhost:8080/"
    },
    "id": "-_w9UnQJ4TMR",
    "outputId": "5815c186-ce30-472b-a9f0-f6164aa96f28"
   },
   "outputs": [
    {
     "name": "stdout",
     "output_type": "stream",
     "text": [
      "fatal: destination path 'ml-ex3' already exists and is not an empty directory.\r\n"
     ]
    }
   ],
   "source": [
    "!git clone https://github.com/Sejmou/ml-ex3.git"
   ]
  },
  {
   "cell_type": "code",
   "execution_count": 55,
   "metadata": {
    "colab": {
     "base_uri": "https://localhost:8080/"
    },
    "id": "UQ1rN-IB5Q7P",
    "outputId": "4e349a00-b537-4739-84d0-6be65075e9e0"
   },
   "outputs": [
    {
     "name": "stdout",
     "output_type": "stream",
     "text": [
      "AlexNet_CIFAR-10.ipynb        LeNet5_GTSRB.ipynb\r\n",
      "AlexNet_GTSRB.ipynb           \u001b[0m\u001b[01;34mml-ex3\u001b[0m/\r\n",
      "\u001b[01;34mdata\u001b[0m/                         test.ipynb\r\n",
      "Data-Exploration_GTSRB.ipynb  Traditional_Methods_CIFAR-10.ipynb\r\n",
      "\u001b[01;34mhelper_scripts\u001b[0m/               Traditional_Methods_GTSRB.ipynb\r\n",
      "LeNet5_CIFAR_10.ipynb\r\n"
     ]
    }
   ],
   "source": [
    "ls"
   ]
  },
  {
   "cell_type": "code",
   "execution_count": 56,
   "metadata": {
    "id": "41ga6UjB5S11"
   },
   "outputs": [],
   "source": [
    "import sys\n",
    "sys.path.append('./ml-ex3/notebooks/helper_scripts/')# make script files in ml-ex3 accessible"
   ]
  },
  {
   "cell_type": "code",
   "execution_count": 57,
   "metadata": {
    "id": "jGoU4fBg5Vo2"
   },
   "outputs": [],
   "source": [
    "from data_loaders import GTSRBLoader"
   ]
  },
  {
   "cell_type": "code",
   "execution_count": 58,
   "metadata": {
    "colab": {
     "base_uri": "https://localhost:8080/"
    },
    "id": "5LjmwQDC5Z5X",
    "outputId": "9086b95e-54cf-4a66-ece2-29f8a04a2f0b"
   },
   "outputs": [
    {
     "name": "stdout",
     "output_type": "stream",
     "text": [
      "GTSRB dataset already downloaded, loading files from memory\n",
      "loading training images and labels\n",
      "loading test images and labels\n",
      "done\n",
      "processing training images\n",
      "processing test images\n",
      "done processing, creating train/val/test split\n"
     ]
    }
   ],
   "source": [
    "X_train, X_val, X_test, y_train, y_val, y_test = GTSRBLoader('./data').get_processed_imgs(target_width = 50, target_height = 50, normalize=False, convert_to_grayscale=False)# cannot resize to 257 directly, our implementation is too RAM-hungry"
   ]
  },
  {
   "cell_type": "code",
   "execution_count": 59,
   "metadata": {},
   "outputs": [
    {
     "data": {
      "text/plain": [
       "<matplotlib.image.AxesImage at 0x7fc6c4ab9b20>"
      ]
     },
     "execution_count": 59,
     "metadata": {},
     "output_type": "execute_result"
    },
    {
     "data": {
      "image/png": "[encoded data removed]",
      "text/plain": [
       "<Figure size 432x288 with 1 Axes>"
      ]
     },
     "metadata": {
      "needs_background": "light"
     },
     "output_type": "display_data"
    }
   ],
   "source": [
    "plt.imshow(X_train[1])"
   ]
  },
  {
   "cell_type": "markdown",
   "metadata": {
    "id": "GvIZoAOEa0AW"
   },
   "source": [
    "# Color Histograms"
   ]
  },
  {
   "cell_type": "code",
   "execution_count": 60,
   "metadata": {
    "id": "opC6vuMGa4iU"
   },
   "outputs": [],
   "source": [
    "from PIL import Image\n",
    "\n",
    "def get_color_hist_from_image(image):\n",
    "    res = Image.fromarray(image).convert('RGB')\n",
    "    return res.histogram()"
   ]
  },
  {
   "cell_type": "code",
   "execution_count": 61,
   "metadata": {
    "id": "Y-swLsqha40j"
   },
   "outputs": [],
   "source": [
    "X_train_img = [get_color_hist_from_image(i) for i in X_train]\n",
    "X_test_img = [get_color_hist_from_image(i) for i in X_test]"
   ]
  },
  {
   "cell_type": "code",
   "execution_count": 62,
   "metadata": {
    "id": "IL-ghASvbbeo"
   },
   "outputs": [],
   "source": [
    "from traditional_ml import evaluate_feature"
   ]
  },
  {
   "cell_type": "code",
   "execution_count": 63,
   "metadata": {
    "colab": {
     "base_uri": "https://localhost:8080/"
    },
    "id": "LM48bfuubMM5",
    "outputId": "cbac2531-04d1-4d31-b201-12e611821950"
   },
   "outputs": [
    {
     "name": "stdout",
     "output_type": "stream",
     "text": [
      "Trying KNeighborsClassifier()\n",
      "Fitted, best are {'clf__n_neighbors': 5, 'clf__weights': 'distance'} with cross val score of 0.7906799324763122.\n",
      "Accuracy on Test Set is 0.1182897862232779\n",
      "Trying MLPClassifier()\n",
      "Fitted, best are {'clf__activation': 'relu', 'clf__hidden_layer_sizes': (100,), 'clf__learning_rate': 'adaptive', 'clf__learning_rate_init': 0.01} with cross val score of 0.45890095143092946.\n",
      "Accuracy on Test Set is 0.12311955661124308\n",
      "Trying GaussianNB()\n",
      "Fitted, best are {} with cross val score of 0.06718642783165271.\n",
      "Accuracy on Test Set is 0.027711797307996833\n",
      "Trying DecisionTreeClassifier()\n",
      "Fitted, best are {'clf__criterion': 'entropy', 'clf__splitter': 'best'} with cross val score of 0.3604530604510893.\n",
      "Accuracy on Test Set is 0.0889944576405384\n",
      "Trying RandomForestClassifier(random_state=123)\n"
     ]
    },
    {
     "name": "stderr",
     "output_type": "stream",
     "text": [
      "/home/jakob/.local/lib/python3.8/site-packages/joblib/externals/loky/process_executor.py:688: UserWarning: A worker stopped while some jobs were given to the executor. This can be caused by a too short worker timeout or by a memory leak.\n",
      "  warnings.warn(\n",
      "/home/jakob/.local/lib/python3.8/site-packages/sklearn/neural_network/_multilayer_perceptron.py:614: ConvergenceWarning: Stochastic Optimizer: Maximum iterations (200) reached and the optimization hasn't converged yet.\n",
      "  warnings.warn(\n",
      "/home/jakob/.local/lib/python3.8/site-packages/sklearn/neural_network/_multilayer_perceptron.py:614: ConvergenceWarning: Stochastic Optimizer: Maximum iterations (200) reached and the optimization hasn't converged yet.\n",
      "  warnings.warn(\n",
      "/home/jakob/.local/lib/python3.8/site-packages/sklearn/neural_network/_multilayer_perceptron.py:614: ConvergenceWarning: Stochastic Optimizer: Maximum iterations (200) reached and the optimization hasn't converged yet.\n",
      "  warnings.warn(\n",
      "/home/jakob/.local/lib/python3.8/site-packages/sklearn/neural_network/_multilayer_perceptron.py:614: ConvergenceWarning: Stochastic Optimizer: Maximum iterations (200) reached and the optimization hasn't converged yet.\n",
      "  warnings.warn(\n"
     ]
    },
    {
     "name": "stdout",
     "output_type": "stream",
     "text": [
      "Fitted, best are {'clf__criterion': 'gini', 'clf__n_estimators': 100} with cross val score of 0.734569798646805.\n",
      "Accuracy on Test Set is 0.16072842438638163\n",
      "Best Classifier is (RandomForestClassifier(random_state=123), {'clf__criterion': 'gini', 'clf__n_estimators': 100}) with an accuracy of 0.16072842438638163, predicting took 1.831010103225708 seconds and this whole process took 00:35:03.70\n"
     ]
    }
   ],
   "source": [
    "evaluate_feature(X_train_img, y_train, X_test_img, y_test)"
   ]
  },
  {
   "cell_type": "code",
   "execution_count": 66,
   "metadata": {},
   "outputs": [
    {
     "name": "stdout",
     "output_type": "stream",
     "text": [
      "Fit Time: 32.398221015930176 seconds\n"
     ]
    }
   ],
   "source": [
    "from sklearn import ensemble\n",
    "# Check fit time of optimal model\n",
    "cl = ensemble.RandomForestClassifier(random_state=123, criterion='gini', n_estimators=100)\n",
    "ping = time.time()\n",
    "cl = cl.fit(X_train_img, y_train)\n",
    "print(f\"Fit Time: {time.time()-ping} seconds\")"
   ]
  },
  {
   "cell_type": "markdown",
   "metadata": {
    "id": "-5MLdfJyaxpe"
   },
   "source": [
    "# SIFT"
   ]
  },
  {
   "cell_type": "code",
   "execution_count": 67,
   "metadata": {},
   "outputs": [
    {
     "name": "stdout",
     "output_type": "stream",
     "text": [
      "GTSRB dataset already downloaded, loading files from memory\n",
      "loading training images and labels\n",
      "loading test images and labels\n",
      "done\n",
      "processing training images\n",
      "processing test images\n",
      "done processing, creating train/val/test split\n"
     ]
    }
   ],
   "source": [
    "# reload data with convert_to_grayscale=True\n",
    "X_train, X_val, X_test, y_train, y_val, y_test = GTSRBLoader('./data').get_processed_imgs(target_width = 50, target_height = 50, normalize=False, convert_to_grayscale=True)# cannot resize to 257 directly, our implementation is too RAM-hungry"
   ]
  },
  {
   "cell_type": "code",
   "execution_count": 68,
   "metadata": {},
   "outputs": [],
   "source": [
    "X_train_int = X_train.astype(np.uint8)\n",
    "X_test_int = X_test.astype(np.uint8)"
   ]
  },
  {
   "cell_type": "markdown",
   "metadata": {
    "id": "JVzIRABeK0Rg"
   },
   "source": [
    "## Extract Sift keypoints"
   ]
  },
  {
   "cell_type": "code",
   "execution_count": 69,
   "metadata": {
    "id": "-rJGNLt6OFEw"
   },
   "outputs": [],
   "source": [
    "def draw_keypoints(vis, keypoints, color = (0, 255, 255)):\n",
    "    for kp in keypoints:\n",
    "            x, y = kp.pt\n",
    "            plt.imshow(cv2.circle(vis, (int(x), int(y)), 2, color),\n",
    "                       cmap='gray', vmin=0, vmax=255)"
   ]
  },
  {
   "cell_type": "code",
   "execution_count": 70,
   "metadata": {
    "colab": {
     "base_uri": "https://localhost:8080/",
     "height": 267
    },
    "id": "aNUt0f_qOJsZ",
    "outputId": "e4fadd6c-fdc4-4396-94fc-f62317964796"
   },
   "outputs": [
    {
     "data": {
      "image/png": "[encoded data removed]",
      "text/plain": [
       "<Figure size 432x288 with 1 Axes>"
      ]
     },
     "metadata": {
      "needs_background": "light"
     },
     "output_type": "display_data"
    }
   ],
   "source": [
    "sift=cv2.SIFT_create()\n",
    "kp = sift.detect(X_train_int[1],None)\n",
    "kp, des = sift.compute(X_train_int[1], kp)\n",
    "img=draw_keypoints(X_train_int[1],kp)"
   ]
  },
  {
   "cell_type": "code",
   "execution_count": 71,
   "metadata": {
    "id": "L9uIhDQB8LBg"
   },
   "outputs": [],
   "source": [
    "def extract_dsift(images):\n",
    "    sift = cv2.SIFT_create()\n",
    "    \n",
    "    all_descriptors = []\n",
    "    nans = set()\n",
    "    for i in range(len(images)):\n",
    "        image = images[i]\n",
    "        kp = sift.detect(image,None)\n",
    "        kp, des = sift.compute(image, kp)\n",
    "\n",
    "        if des is not None:\n",
    "          all_descriptors.append(des)\n",
    "        else:\n",
    "          nans.add(i)\n",
    "\n",
    "    print(len(nans))\n",
    "    return all_descriptors, nans"
   ]
  },
  {
   "cell_type": "code",
   "execution_count": 72,
   "metadata": {
    "colab": {
     "base_uri": "https://localhost:8080/"
    },
    "id": "yxpfcNCx5y5u",
    "outputId": "384eb0ae-7cda-41db-a0b7-56eb78089848",
    "scrolled": true
   },
   "outputs": [
    {
     "name": "stdout",
     "output_type": "stream",
     "text": [
      "2073\n"
     ]
    }
   ],
   "source": [
    "ping = time.time()\n",
    "\n",
    "sift_features, nans = extract_dsift(X_train_int)\n",
    "all_descriptors = np.vstack(sift_features)"
   ]
  },
  {
   "cell_type": "code",
   "execution_count": 73,
   "metadata": {},
   "outputs": [
    {
     "name": "stdout",
     "output_type": "stream",
     "text": [
      "Extract sift features time: 66.16685628890991 seconds\n"
     ]
    }
   ],
   "source": [
    "print(f\"Extract sift features time: {time.time()-ping} seconds\")"
   ]
  },
  {
   "cell_type": "code",
   "execution_count": 74,
   "metadata": {
    "colab": {
     "base_uri": "https://localhost:8080/"
    },
    "id": "vOUKBSwcdS8i",
    "outputId": "34d8bee7-4d2c-401d-91e9-75d31050ee2d"
   },
   "outputs": [
    {
     "data": {
      "text/plain": [
       "27446"
      ]
     },
     "execution_count": 74,
     "metadata": {},
     "output_type": "execute_result"
    }
   ],
   "source": [
    "len(X_train)"
   ]
  },
  {
   "cell_type": "code",
   "execution_count": 75,
   "metadata": {
    "id": "UjgHsPDAbEak"
   },
   "outputs": [
    {
     "name": "stdout",
     "output_type": "stream",
     "text": [
      "Fit descriptors time: 258.4728708267212 seconds\n"
     ]
    }
   ],
   "source": [
    "ping = time.time()\n",
    "kmeans = KMeans(n_clusters=20).fit(all_descriptors)\n",
    "print(f\"Fit descriptors time: {time.time()-ping} seconds\")"
   ]
  },
  {
   "cell_type": "markdown",
   "metadata": {
    "id": "jnoYewZznR-Q"
   },
   "source": [
    "### Creating histogram of training image"
   ]
  },
  {
   "cell_type": "code",
   "execution_count": 76,
   "metadata": {
    "id": "p3XRn2wUAgL5"
   },
   "outputs": [],
   "source": [
    "def count_visual_words(dense_feat: List[np.ndarray], centroids: List[np.ndarray]) -> List[np.ndarray]:\n",
    "    histograms = []\n",
    "\n",
    "    for k in range(0, len(dense_feat)):\n",
    "        distances = sklearn_pairwise.pairwise_distances(dense_feat[k], centroids)\n",
    "        clusters = np.argmin(distances, axis=1)\n",
    "        histogram = np.histogram(clusters, bins = range(len(centroids)))\n",
    "        histograms.append(histogram[0])\n",
    "\n",
    "    return histograms"
   ]
  },
  {
   "cell_type": "code",
   "execution_count": 77,
   "metadata": {
    "id": "LJWb92VjMBJ6"
   },
   "outputs": [],
   "source": [
    "histograms_train = count_visual_words(sift_features, kmeans.cluster_centers_)"
   ]
  },
  {
   "cell_type": "code",
   "execution_count": 78,
   "metadata": {
    "id": "wQvAJZOrL4aL"
   },
   "outputs": [],
   "source": [
    "def get_data_without_nan(data, nan):\n",
    "  without_nan = []\n",
    "\n",
    "  for i in range(len(data)):\n",
    "    if i not in nan:\n",
    "      without_nan.append(y_train[i])\n",
    "      \n",
    "  return without_nan"
   ]
  },
  {
   "cell_type": "code",
   "execution_count": 79,
   "metadata": {
    "id": "jgBIh8cAJbrg"
   },
   "outputs": [],
   "source": [
    "y_train_sift = get_data_without_nan(y_train, nans)"
   ]
  },
  {
   "cell_type": "code",
   "execution_count": 80,
   "metadata": {
    "id": "7nFUm7UrnAmR"
   },
   "outputs": [
    {
     "name": "stdout",
     "output_type": "stream",
     "text": [
      "Fit histograms time: 0.015543699264526367 seconds\n"
     ]
    }
   ],
   "source": [
    "ping = time.time()\n",
    "classifier = KNeighborsClassifier(n_neighbors=5).fit(histograms_train, y_train_sift)\n",
    "print(f\"Fit histograms time: {time.time()-ping} seconds\")"
   ]
  },
  {
   "cell_type": "markdown",
   "metadata": {
    "id": "3wgP3zBnjzkW"
   },
   "source": [
    "### Testing the Classification Model"
   ]
  },
  {
   "cell_type": "code",
   "execution_count": 81,
   "metadata": {
    "id": "8oUBTcjtdU1I"
   },
   "outputs": [],
   "source": [
    "prediction_train = classifier.predict(histograms_train)"
   ]
  },
  {
   "cell_type": "code",
   "execution_count": 82,
   "metadata": {
    "id": "thnKcQKidgPo"
   },
   "outputs": [],
   "source": [
    "score = classifier.score(histograms_train, y_train_sift)"
   ]
  },
  {
   "cell_type": "code",
   "execution_count": 83,
   "metadata": {
    "colab": {
     "base_uri": "https://localhost:8080/"
    },
    "id": "0UVUHSiHCbRD",
    "outputId": "9e549ce0-79db-47c1-ceec-e869b91ea993"
   },
   "outputs": [
    {
     "name": "stdout",
     "output_type": "stream",
     "text": [
      "0.5632759232254759\n"
     ]
    }
   ],
   "source": [
    "print(score)"
   ]
  },
  {
   "cell_type": "code",
   "execution_count": 84,
   "metadata": {
    "colab": {
     "base_uri": "https://localhost:8080/"
    },
    "id": "GJ9WUT9HKc3A",
    "outputId": "937683c7-f884-41b9-8c6b-07390434ab52"
   },
   "outputs": [
    {
     "name": "stdout",
     "output_type": "stream",
     "text": [
      "931\n"
     ]
    }
   ],
   "source": [
    "test_descriptors, test_nan = extract_dsift(X_test_int)\n",
    "test_histograms = count_visual_words(test_descriptors, kmeans.cluster_centers_)\n",
    "prediction_test = classifier.predict(test_histograms)"
   ]
  },
  {
   "cell_type": "code",
   "execution_count": 85,
   "metadata": {
    "id": "ahOkyXmfL0tf"
   },
   "outputs": [],
   "source": [
    "y_test_sift = get_data_without_nan(y_test, test_nan)"
   ]
  },
  {
   "cell_type": "code",
   "execution_count": 86,
   "metadata": {
    "colab": {
     "base_uri": "https://localhost:8080/"
    },
    "id": "j1nItTHqlsoq",
    "outputId": "07c338fa-2a55-4294-e125-87fe91725eff"
   },
   "outputs": [
    {
     "data": {
      "text/plain": [
       "11699"
      ]
     },
     "execution_count": 86,
     "metadata": {},
     "output_type": "execute_result"
    }
   ],
   "source": [
    "len(y_test_sift)"
   ]
  },
  {
   "cell_type": "code",
   "execution_count": 87,
   "metadata": {
    "id": "T_ibyrIoLRWw"
   },
   "outputs": [],
   "source": [
    "score = classifier.score(test_histograms, y_test_sift)"
   ]
  },
  {
   "cell_type": "code",
   "execution_count": 88,
   "metadata": {
    "colab": {
     "base_uri": "https://localhost:8080/"
    },
    "id": "0AJ6C56JMYix",
    "outputId": "0da0b3c3-8f57-4560-8cfd-1c554cdb8b1a"
   },
   "outputs": [
    {
     "name": "stdout",
     "output_type": "stream",
     "text": [
      "0.04137105735532952\n"
     ]
    }
   ],
   "source": [
    "print(score)"
   ]
  },
  {
   "cell_type": "code",
   "execution_count": 89,
   "metadata": {},
   "outputs": [
    {
     "name": "stdout",
     "output_type": "stream",
     "text": [
      "Trying KNeighborsClassifier()\n",
      "Fitted, best are {'clf__n_neighbors': 15, 'clf__weights': 'distance'} with cross val score of 0.40606136956298017.\n",
      "Accuracy on Test Set is 0.041114625181639455\n",
      "Trying MLPClassifier()\n",
      "Fitted, best are {'clf__activation': 'relu', 'clf__hidden_layer_sizes': (100,), 'clf__learning_rate': 'adaptive', 'clf__learning_rate_init': 0.01} with cross val score of 0.3900997532091547.\n",
      "Accuracy on Test Set is 0.03837934866227883\n",
      "Trying GaussianNB()\n",
      "Fitted, best are {} with cross val score of 0.21491377077382814.\n",
      "Accuracy on Test Set is 0.02795110693221643\n",
      "Trying DecisionTreeClassifier()\n",
      "Fitted, best are {'clf__criterion': 'gini', 'clf__splitter': 'best'} with cross val score of 0.2561774098028974.\n",
      "Accuracy on Test Set is 0.036669800837678436\n",
      "Trying RandomForestClassifier(random_state=123)\n",
      "Fitted, best are {'clf__criterion': 'gini', 'clf__n_estimators': 100} with cross val score of 0.4173724910730062.\n",
      "Accuracy on Test Set is 0.040601760834259336\n",
      "Best Classifier is (KNeighborsClassifier(), {'clf__n_neighbors': 15, 'clf__weights': 'distance'}) with an accuracy of 0.041114625181639455, predicting took 6.196386337280273 seconds and this whole process took 00:08:46.06\n"
     ]
    }
   ],
   "source": [
    "evaluate_feature(histograms_train, y_train_sift, test_histograms, y_test_sift)"
   ]
  },
  {
   "cell_type": "code",
   "execution_count": 91,
   "metadata": {},
   "outputs": [
    {
     "name": "stdout",
     "output_type": "stream",
     "text": [
      "Fit Time: 0.013900279998779297 seconds\n"
     ]
    },
    {
     "name": "stderr",
     "output_type": "stream",
     "text": [
      "/home/jakob/.local/lib/python3.8/site-packages/sklearn/neural_network/_multilayer_perceptron.py:614: ConvergenceWarning: Stochastic Optimizer: Maximum iterations (200) reached and the optimization hasn't converged yet.\n",
      "  warnings.warn(\n",
      "/home/jakob/.local/lib/python3.8/site-packages/sklearn/neural_network/_multilayer_perceptron.py:614: ConvergenceWarning: Stochastic Optimizer: Maximum iterations (200) reached and the optimization hasn't converged yet.\n",
      "  warnings.warn(\n"
     ]
    }
   ],
   "source": [
    "sifcl = KNeighborsClassifier(n_neighbors=20, weights='distance')\n",
    "ping = time.time()\n",
    "cl = cl.fit(histograms_train, y_train_sift)\n",
    "print(f\"Fit Time: {time.time()-ping} seconds\")"
   ]
  },
  {
   "cell_type": "code",
   "execution_count": null,
   "metadata": {},
   "outputs": [],
   "source": []
  }
 ],
 "metadata": {
  "colab": {
   "collapsed_sections": [],
   "name": "SIFT_GTSRB.ipynb",
   "provenance": []
  },
  "kernelspec": {
   "display_name": "Python 3 (ipykernel)",
   "language": "python",
   "name": "python3"
  },
  "language_info": {
   "codemirror_mode": {
    "name": "ipython",
    "version": 3
   },
   "file_extension": ".py",
   "mimetype": "text/x-python",
   "name": "python",
   "nbconvert_exporter": "python",
   "pygments_lexer": "ipython3",
   "version": "3.8.10"
  }
 },
 "nbformat": 4,
 "nbformat_minor": 1
}
