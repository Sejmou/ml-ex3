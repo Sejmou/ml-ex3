{
  "cells": [
    {
      "cell_type": "code",
      "execution_count": 6,
      "metadata": {
        "id": "VF6BJFbT5fvA"
      },
      "outputs": [],
      "source": [
        "from typing import List\n",
        "import sklearn.metrics.pairwise as sklearn_pairwise\n",
        "from sklearn.neighbors import KNeighborsClassifier\n",
        "import cv2\n",
        "import numpy as np\n",
        "from sklearn.cluster import KMeans\n",
        "import random\n",
        "import time\n",
        "from sklearn.cluster import MiniBatchKMeans\n",
        "from scipy.cluster.vq import kmeans,vq\n",
        "import matplotlib.pyplot as plt"
      ]
    },
    {
      "cell_type": "code",
      "execution_count": 1,
      "metadata": {
        "id": "v1DLY9XpI5Er",
        "colab": {
          "base_uri": "https://localhost:8080/"
        },
        "outputId": "d2774351-76e5-443f-aef1-a46c926ece27"
      },
      "outputs": [
        {
          "output_type": "stream",
          "name": "stdout",
          "text": [
            "Collecting opencv-contrib-python==3.4.2.17\n",
            "  Downloading opencv_contrib_python-3.4.2.17-cp37-cp37m-manylinux1_x86_64.whl (30.6 MB)\n",
            "\u001b[K     |████████████████████████████████| 30.6 MB 1.5 MB/s \n",
            "\u001b[?25hRequirement already satisfied: numpy>=1.14.5 in /usr/local/lib/python3.7/dist-packages (from opencv-contrib-python==3.4.2.17) (1.21.5)\n",
            "Installing collected packages: opencv-contrib-python\n",
            "  Attempting uninstall: opencv-contrib-python\n",
            "    Found existing installation: opencv-contrib-python 4.1.2.30\n",
            "    Uninstalling opencv-contrib-python-4.1.2.30:\n",
            "      Successfully uninstalled opencv-contrib-python-4.1.2.30\n",
            "Successfully installed opencv-contrib-python-3.4.2.17\n"
          ]
        }
      ],
      "source": [
        "#!pip install opencv-contrib-python==3.4.2.17"
      ]
    },
    {
      "cell_type": "markdown",
      "metadata": {
        "id": "9Yj445K-5shn"
      },
      "source": [
        "# Load data"
      ]
    },
    {
      "cell_type": "code",
      "execution_count": 1,
      "metadata": {
        "colab": {
          "base_uri": "https://localhost:8080/"
        },
        "id": "-_w9UnQJ4TMR",
        "outputId": "6a0941b3-ca43-403c-c686-f5947ebef42e"
      },
      "outputs": [
        {
          "output_type": "stream",
          "name": "stdout",
          "text": [
            "fatal: destination path 'ml-ex3' already exists and is not an empty directory.\n"
          ]
        }
      ],
      "source": [
        "!git clone https://github.com/Sejmou/ml-ex3.git"
      ]
    },
    {
      "cell_type": "code",
      "execution_count": 4,
      "metadata": {
        "colab": {
          "base_uri": "https://localhost:8080/"
        },
        "id": "UQ1rN-IB5Q7P",
        "outputId": "e8e99e3d-1530-41b8-fdb7-4394ead4b18e"
      },
      "outputs": [
        {
          "output_type": "stream",
          "name": "stdout",
          "text": [
            "\u001b[0m\u001b[01;34mml-ex3\u001b[0m/  \u001b[01;34msample_data\u001b[0m/\n"
          ]
        }
      ],
      "source": [
        "ls"
      ]
    },
    {
      "cell_type": "code",
      "execution_count": 5,
      "metadata": {
        "id": "41ga6UjB5S11"
      },
      "outputs": [],
      "source": [
        "import sys\n",
        "sys.path.append('./ml-ex3/')# make script files in ml-ex3 accessible"
      ]
    },
    {
      "cell_type": "code",
      "execution_count": 7,
      "metadata": {
        "id": "jGoU4fBg5Vo2"
      },
      "outputs": [],
      "source": [
        "from data_loaders import GTSRBLoader"
      ]
    },
    {
      "cell_type": "code",
      "execution_count": 8,
      "metadata": {
        "colab": {
          "base_uri": "https://localhost:8080/"
        },
        "id": "5LjmwQDC5Z5X",
        "outputId": "97aaff5b-b2e5-4cf2-f724-873661128250"
      },
      "outputs": [
        {
          "output_type": "stream",
          "name": "stdout",
          "text": [
            "GTSRB dataset already downloaded, loading files from memory\n",
            "loading training images and labels\n",
            "loading test images and labels\n",
            "done\n",
            "processing training images\n",
            "processing test images\n",
            "done processing, creating train/val/test split\n"
          ]
        }
      ],
      "source": [
        "X_train, X_val, X_test, y_train, y_val, y_test = GTSRBLoader('./data').get_processed_imgs(target_width = 50, target_height = 50, normalize=False, convert_to_grayscale=True)# cannot resize to 257 directly, our implementation is too RAM-hungry"
      ]
    },
    {
      "cell_type": "code",
      "source": [
        "X_train_int = X_train.astype(np.uint8)\n",
        "X_test_int = X_test.astype(np.uint8)\n",
        "del X_train\n",
        "del X_test"
      ],
      "metadata": {
        "id": "nvL2oyxZyOC9"
      },
      "execution_count": 9,
      "outputs": []
    },
    {
      "cell_type": "markdown",
      "source": [
        "## Extract Sift keypoints"
      ],
      "metadata": {
        "id": "JVzIRABeK0Rg"
      }
    },
    {
      "cell_type": "code",
      "source": [
        "def draw_keypoints(vis, keypoints, color = (0, 255, 255)):\n",
        "    for kp in keypoints:\n",
        "            x, y = kp.pt\n",
        "            plt.imshow(cv2.circle(vis, (int(x), int(y)), 2, color),\n",
        "                       cmap='gray', vmin=0, vmax=255)"
      ],
      "metadata": {
        "id": "-rJGNLt6OFEw"
      },
      "execution_count": 10,
      "outputs": []
    },
    {
      "cell_type": "code",
      "source": [
        "sift=cv2.xfeatures2d.SIFT_create()\n",
        "kp = sift.detect(X_train_int[1],None)\n",
        "kp, des = sift.compute(X_train_int[1], kp)\n",
        "img=draw_keypoints(X_train_int[1],kp)"
      ],
      "metadata": {
        "colab": {
          "base_uri": "https://localhost:8080/",
          "height": 267
        },
        "id": "aNUt0f_qOJsZ",
        "outputId": "e4fadd6c-fdc4-4396-94fc-f62317964796"
      },
      "execution_count": 11,
      "outputs": [
        {
          "output_type": "display_data",
          "data": {
            "image/png": "[encoded data removed]",
            "text/plain": [
              "<Figure size 432x288 with 1 Axes>"
            ]
          },
          "metadata": {
            "needs_background": "light"
          }
        }
      ]
    },
    {
      "cell_type": "code",
      "execution_count": 12,
      "metadata": {
        "id": "L9uIhDQB8LBg"
      },
      "outputs": [],
      "source": [
        "def extract_dsift(images):\n",
        "    sift = cv2.xfeatures2d.SIFT_create()\n",
        "    \n",
        "    all_descriptors = []\n",
        "    nans = set()\n",
        "    for i in range(len(images)):\n",
        "        image = images[i]\n",
        "        kp = sift.detect(image,None)\n",
        "        kp, des = sift.compute(image, kp)\n",
        "\n",
        "        if des is not None:\n",
        "          all_descriptors.append(des)\n",
        "        else:\n",
        "          nans.add(i)\n",
        "\n",
        "    print(len(nans))\n",
        "    return all_descriptors, nans"
      ]
    },
    {
      "cell_type": "code",
      "execution_count": 13,
      "metadata": {
        "colab": {
          "base_uri": "https://localhost:8080/"
        },
        "id": "yxpfcNCx5y5u",
        "outputId": "384eb0ae-7cda-41db-a0b7-56eb78089848"
      },
      "outputs": [
        {
          "output_type": "stream",
          "name": "stdout",
          "text": [
            "1932\n"
          ]
        }
      ],
      "source": [
        "sift_features, nans = extract_dsift(X_train_int)\n",
        "all_descriptors = np.vstack(sift_features)"
      ]
    },
    {
      "cell_type": "code",
      "source": [
        "kmeans = KMeans(n_clusters=20).fit(all_descriptors)"
      ],
      "metadata": {
        "id": "UjgHsPDAbEak"
      },
      "execution_count": 14,
      "outputs": []
    },
    {
      "cell_type": "markdown",
      "source": [
        "### Creating histogram of training image"
      ],
      "metadata": {
        "id": "jnoYewZznR-Q"
      }
    },
    {
      "cell_type": "code",
      "execution_count": 15,
      "metadata": {
        "id": "p3XRn2wUAgL5"
      },
      "outputs": [],
      "source": [
        "def count_visual_words(dense_feat: List[np.ndarray], centroids: List[np.ndarray]) -> List[np.ndarray]:\n",
        "    histograms = []\n",
        "\n",
        "    for k in range(0, len(dense_feat)):\n",
        "        distances = sklearn_pairwise.pairwise_distances(dense_feat[k], centroids)\n",
        "        clusters = np.argmin(distances, axis=1)\n",
        "        histogram = np.histogram(clusters, bins = range(len(centroids)))\n",
        "        histograms.append(histogram[0])\n",
        "\n",
        "    return histograms"
      ]
    },
    {
      "cell_type": "code",
      "execution_count": 16,
      "metadata": {
        "id": "LJWb92VjMBJ6"
      },
      "outputs": [],
      "source": [
        "histograms_train = count_visual_words(sift_features, kmeans.cluster_centers_)"
      ]
    },
    {
      "cell_type": "code",
      "source": [
        "def get_data_without_nan(data, nan):\n",
        "  without_nan = []\n",
        "\n",
        "  for i in range(len(data)):\n",
        "    if i not in nan:\n",
        "      without_nan.append(y_train[i])\n",
        "      \n",
        "  return without_nan"
      ],
      "metadata": {
        "id": "wQvAJZOrL4aL"
      },
      "execution_count": 17,
      "outputs": []
    },
    {
      "cell_type": "code",
      "source": [
        "y_train_sift = get_data_without_nan(y_train, nans)"
      ],
      "metadata": {
        "id": "jgBIh8cAJbrg"
      },
      "execution_count": 18,
      "outputs": []
    },
    {
      "cell_type": "code",
      "source": [
        "classifier = KNeighborsClassifier(n_neighbors=5).fit(histograms_train, y_train_sift)"
      ],
      "metadata": {
        "id": "7nFUm7UrnAmR"
      },
      "execution_count": 19,
      "outputs": []
    },
    {
      "cell_type": "markdown",
      "source": [
        "### Testing the Classification Model"
      ],
      "metadata": {
        "id": "3wgP3zBnjzkW"
      }
    },
    {
      "cell_type": "code",
      "source": [
        "prediction_train = classifier.predict(histograms_train)"
      ],
      "metadata": {
        "id": "8oUBTcjtdU1I"
      },
      "execution_count": 20,
      "outputs": []
    },
    {
      "cell_type": "code",
      "source": [
        "score = classifier.score(histograms_train, y_train_sift)"
      ],
      "metadata": {
        "id": "thnKcQKidgPo"
      },
      "execution_count": 21,
      "outputs": []
    },
    {
      "cell_type": "code",
      "source": [
        "print(score)"
      ],
      "metadata": {
        "colab": {
          "base_uri": "https://localhost:8080/"
        },
        "id": "0UVUHSiHCbRD",
        "outputId": "9e549ce0-79db-47c1-ceec-e869b91ea993"
      },
      "execution_count": 22,
      "outputs": [
        {
          "output_type": "stream",
          "name": "stdout",
          "text": [
            "0.5681978521595986\n"
          ]
        }
      ]
    },
    {
      "cell_type": "code",
      "source": [
        "test_descriptors, test_nan = extract_dsift(X_test_int)\n",
        "test_histograms = count_visual_words(test_descriptors, kmeans.cluster_centers_)\n",
        "prediction_test = classifier.predict(test_histograms)"
      ],
      "metadata": {
        "colab": {
          "base_uri": "https://localhost:8080/"
        },
        "id": "GJ9WUT9HKc3A",
        "outputId": "937683c7-f884-41b9-8c6b-07390434ab52"
      },
      "execution_count": 23,
      "outputs": [
        {
          "output_type": "stream",
          "name": "stdout",
          "text": [
            "881\n"
          ]
        }
      ]
    },
    {
      "cell_type": "code",
      "source": [
        "y_test_sift = get_data_without_nan(y_test, test_nan)"
      ],
      "metadata": {
        "id": "ahOkyXmfL0tf"
      },
      "execution_count": 24,
      "outputs": []
    },
    {
      "cell_type": "code",
      "source": [
        "len(y_test_sift)"
      ],
      "metadata": {
        "colab": {
          "base_uri": "https://localhost:8080/"
        },
        "id": "j1nItTHqlsoq",
        "outputId": "07c338fa-2a55-4294-e125-87fe91725eff"
      },
      "execution_count": 25,
      "outputs": [
        {
          "output_type": "execute_result",
          "data": {
            "text/plain": [
              "11749"
            ]
          },
          "metadata": {},
          "execution_count": 25
        }
      ]
    },
    {
      "cell_type": "code",
      "source": [
        "score = classifier.score(test_histograms, y_test_sift)"
      ],
      "metadata": {
        "id": "T_ibyrIoLRWw"
      },
      "execution_count": 26,
      "outputs": []
    },
    {
      "cell_type": "code",
      "source": [
        "print(score)"
      ],
      "metadata": {
        "colab": {
          "base_uri": "https://localhost:8080/"
        },
        "id": "0AJ6C56JMYix",
        "outputId": "0da0b3c3-8f57-4560-8cfd-1c554cdb8b1a"
      },
      "execution_count": 27,
      "outputs": [
        {
          "output_type": "stream",
          "name": "stdout",
          "text": [
            "0.03872670014469316\n"
          ]
        }
      ]
    }
  ],
  "metadata": {
    "colab": {
      "collapsed_sections": [],
      "name": "SIFT_GTSRB.ipynb",
      "provenance": []
    },
    "kernelspec": {
      "display_name": "Python 3",
      "name": "python3"
    },
    "language_info": {
      "name": "python"
    }
  },
  "nbformat": 4,
  "nbformat_minor": 0
}