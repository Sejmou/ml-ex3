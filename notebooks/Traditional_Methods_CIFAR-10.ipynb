{
 "cells": [
  {
   "cell_type": "code",
   "execution_count": 4,
   "id": "3802e023",
   "metadata": {},
   "outputs": [],
   "source": [
    "import sys\n",
    "sys.path.append('./helper_scripts/')# make script files in ml-ex3 accessible"
   ]
  },
  {
   "cell_type": "code",
   "execution_count": 5,
   "id": "ed7a372f",
   "metadata": {},
   "outputs": [],
   "source": [
    "from data_loaders import CIFAR10Loader"
   ]
  },
  {
   "cell_type": "markdown",
   "id": "f24b5421",
   "metadata": {},
   "source": [
    "To evaluate a given feature we use a self written function that tests some classifiers and evaluates their performance on the passed feature:"
   ]
  },
  {
   "cell_type": "code",
   "execution_count": 6,
   "id": "92b006d9",
   "metadata": {},
   "outputs": [],
   "source": [
    "from traditional_ml import evaluate_feature"
   ]
  },
  {
   "cell_type": "markdown",
   "id": "e5ac3ba2",
   "metadata": {},
   "source": [
    "# Color Histograms"
   ]
  },
  {
   "cell_type": "code",
   "execution_count": 3,
   "id": "c6512f68",
   "metadata": {},
   "outputs": [
    {
     "name": "stdout",
     "output_type": "stream",
     "text": [
      "CIFAR-10 dataset already downloaded, loading files from memory\n",
      "loading training images and labels\n",
      "loading test images and labels\n",
      "done\n",
      "processing training images\n",
      "processing test images\n",
      "done processing, creating train/val/test split\n"
     ]
    }
   ],
   "source": [
    "X_train, X_val, X_test, y_train, y_val, y_test = CIFAR10Loader('./data/CIFAR-10').get_processed_imgs(target_width = 32, target_height = 32, normalize=False)"
   ]
  },
  {
   "cell_type": "markdown",
   "id": "b63ec755",
   "metadata": {},
   "source": [
    "For the purposes of traditional feature extraction we do not need a validation set so let's append it to our training set:"
   ]
  },
  {
   "cell_type": "code",
   "execution_count": 4,
   "id": "25f98df8",
   "metadata": {},
   "outputs": [],
   "source": [
    "import numpy as np\n",
    "\n",
    "X_train = np.concatenate((X_train, X_val))\n",
    "y_train = np.concatenate((y_train, y_val))"
   ]
  },
  {
   "cell_type": "code",
   "execution_count": 6,
   "id": "e9e9197c",
   "metadata": {},
   "outputs": [],
   "source": [
    "from PIL import Image\n",
    "\n",
    "def get_color_hist_from_image(image):\n",
    "    res = Image.fromarray(image).convert('RGB')\n",
    "    return res.histogram()"
   ]
  },
  {
   "cell_type": "code",
   "execution_count": 7,
   "id": "975a4d49",
   "metadata": {},
   "outputs": [],
   "source": [
    "X_train = [get_color_hist_from_image(i) for i in X_train]\n",
    "X_test = [get_color_hist_from_image(i) for i in X_test]"
   ]
  },
  {
   "cell_type": "code",
   "execution_count": 8,
   "id": "0477568c",
   "metadata": {},
   "outputs": [
    {
     "name": "stdout",
     "output_type": "stream",
     "text": [
      "Trying KNeighborsClassifier()\n",
      "Fitted, best are {'clf__n_neighbors': 25, 'clf__weights': 'distance'} with cross val score of 0.29606000000000005.\n",
      "Accuracy on Test Set is 0.2998\n",
      "Trying MLPClassifier()\n"
     ]
    },
    {
     "name": "stderr",
     "output_type": "stream",
     "text": [
      "C:\\Users\\andre\\anaconda3\\lib\\site-packages\\sklearn\\neural_network\\_multilayer_perceptron.py:692: ConvergenceWarning: Stochastic Optimizer: Maximum iterations (200) reached and the optimization hasn't converged yet.\n",
      "  warnings.warn(\n"
     ]
    },
    {
     "name": "stdout",
     "output_type": "stream",
     "text": [
      "Fitted, best are {'clf__activation': 'tanh', 'clf__hidden_layer_sizes': (50,), 'clf__learning_rate': 'adaptive', 'clf__learning_rate_init': 0.01} with cross val score of 0.25926.\n",
      "Accuracy on Test Set is 0.2702\n",
      "Trying GaussianNB()\n",
      "Fitted, best are {} with cross val score of 0.24009999999999998.\n",
      "Accuracy on Test Set is 0.2481\n",
      "Trying DecisionTreeClassifier()\n",
      "Fitted, best are {'clf__criterion': 'gini', 'clf__splitter': 'best'} with cross val score of 0.19316.\n",
      "Accuracy on Test Set is 0.1957\n",
      "Trying RandomForestClassifier(random_state=123)\n",
      "Fitted, best are {'clf__criterion': 'gini', 'clf__n_estimators': 100} with cross val score of 0.3256.\n",
      "Accuracy on Test Set is 0.3296\n",
      "Best Classifier is (RandomForestClassifier(random_state=123), {'clf__criterion': 'gini', 'clf__n_estimators': 100}) with an accuracy of 0.3296, predicting took 1.210282325744629 seconds and this whole process took 00:29:03.70\n"
     ]
    }
   ],
   "source": [
    "evaluate_feature(X_train, y_train, X_test, y_test)"
   ]
  },
  {
   "cell_type": "markdown",
   "id": "b0fd9baa",
   "metadata": {},
   "source": [
    "So using color histograms we can achieve an accuracy of 32.96% on this test set. How long does the RandomForest Model take to train?"
   ]
  },
  {
   "cell_type": "code",
   "execution_count": 10,
   "id": "ea14592c",
   "metadata": {},
   "outputs": [
    {
     "name": "stdout",
     "output_type": "stream",
     "text": [
      "Fit Time: 47.48492121696472 seconds\n"
     ]
    }
   ],
   "source": [
    "from sklearn import ensemble\n",
    "import time\n",
    "\n",
    "cl = ensemble.RandomForestClassifier(random_state=123, criterion='gini', n_estimators=100)\n",
    "ping = time.time()\n",
    "cl = cl.fit(X_train, y_train)\n",
    "print(f\"Fit Time: {time.time()-ping} seconds\")"
   ]
  },
  {
   "cell_type": "markdown",
   "id": "e54ca8b7",
   "metadata": {},
   "source": [
    "# SIFT BOVW"
   ]
  },
  {
   "cell_type": "code",
   "execution_count": 14,
   "id": "6668dfc5",
   "metadata": {},
   "outputs": [
    {
     "name": "stderr",
     "output_type": "stream",
     "text": [
      "WARNING: Ignoring invalid distribution -pencv-python (c:\\users\\andre\\anaconda3\\lib\\site-packages)\n",
      "WARNING: Ignoring invalid distribution -pencv-python (c:\\users\\andre\\anaconda3\\lib\\site-packages)\n",
      "ERROR: Could not find a version that satisfies the requirement opencv-contrib-python==3.4.2.17 (from versions: 3.4.8.29, 3.4.9.31, 3.4.9.33, 3.4.10.35, 3.4.10.37, 3.4.11.39, 3.4.11.41, 3.4.11.43, 3.4.11.45, 3.4.13.47, 3.4.14.51, 3.4.14.53, 3.4.15.55, 3.4.16.59, 3.4.17.61, 4.1.2.30, 4.2.0.32, 4.2.0.34, 4.3.0.36, 4.3.0.38, 4.4.0.40, 4.4.0.42, 4.4.0.44, 4.4.0.46, 4.5.1.48, 4.5.2.52, 4.5.2.54, 4.5.3.56, 4.5.4.58, 4.5.4.60, 4.5.5.62)\n",
      "ERROR: No matching distribution found for opencv-contrib-python==3.4.2.17\n",
      "WARNING: Ignoring invalid distribution -pencv-python (c:\\users\\andre\\anaconda3\\lib\\site-packages)\n",
      "WARNING: Ignoring invalid distribution -pencv-python (c:\\users\\andre\\anaconda3\\lib\\site-packages)\n"
     ]
    }
   ],
   "source": [
    "!pip install opencv-contrib-python==3.4.2.17"
   ]
  },
  {
   "cell_type": "code",
   "execution_count": 1,
   "id": "b110c54e",
   "metadata": {},
   "outputs": [],
   "source": [
    "from typing import List\n",
    "import sklearn.metrics.pairwise as sklearn_pairwise\n",
    "from sklearn.neighbors import KNeighborsClassifier\n",
    "import cv2\n",
    "import numpy as np\n",
    "from sklearn.cluster import KMeans\n",
    "from scipy.cluster.vq import kmeans\n",
    "import matplotlib.pyplot as plt"
   ]
  },
  {
   "cell_type": "code",
   "execution_count": 7,
   "id": "1012c081",
   "metadata": {},
   "outputs": [
    {
     "name": "stdout",
     "output_type": "stream",
     "text": [
      "CIFAR-10 dataset already downloaded, loading files from memory\n",
      "loading training images and labels\n",
      "loading test images and labels\n",
      "done\n",
      "processing training images\n",
      "processing test images\n",
      "done processing, creating train/val/test split\n"
     ]
    }
   ],
   "source": [
    "X_train, X_val, X_test, y_train, y_val, y_test = CIFAR10Loader('./data').get_processed_imgs(target_width = 50, target_height = 50, normalize=False, convert_to_grayscale=True)"
   ]
  },
  {
   "cell_type": "code",
   "execution_count": 8,
   "id": "113a36d8",
   "metadata": {},
   "outputs": [],
   "source": [
    "X_train_int = X_train.astype(np.uint8)\n",
    "X_test_int = X_test.astype(np.uint8)"
   ]
  },
  {
   "cell_type": "code",
   "execution_count": 9,
   "id": "93c224cb",
   "metadata": {},
   "outputs": [],
   "source": [
    "def draw_keypoints(vis, keypoints, color = (0, 255, 255)):\n",
    "    for kp in keypoints:\n",
    "            x, y = kp.pt\n",
    "            plt.imshow(cv2.circle(vis, (int(x), int(y)), 2, color),\n",
    "                       cmap='gray', vmin=0, vmax=255)"
   ]
  },
  {
   "cell_type": "code",
   "execution_count": 10,
   "id": "5ed4ba60",
   "metadata": {},
   "outputs": [
    {
     "data": {
      "image/png": "[encoded data removed]",
      "text/plain": [
       "<Figure size 432x288 with 1 Axes>"
      ]
     },
     "metadata": {
      "needs_background": "light"
     },
     "output_type": "display_data"
    }
   ],
   "source": [
    "sift=cv2.SIFT_create()\n",
    "kp = sift.detect(X_train_int[1],None)\n",
    "kp, des = sift.compute(X_train_int[1], kp)\n",
    "img=draw_keypoints(X_train_int[1],kp)"
   ]
  },
  {
   "cell_type": "code",
   "execution_count": 13,
   "id": "168d2c58",
   "metadata": {},
   "outputs": [],
   "source": [
    "def extract_dsift(images):\n",
    "    sift = cv2.SIFT_create()\n",
    "    \n",
    "    all_descriptors = []\n",
    "    nans = set()\n",
    "    for i in range(len(images)):\n",
    "        image = images[i]\n",
    "        kp = sift.detect(image,None)\n",
    "        kp, des = sift.compute(image, kp)\n",
    "\n",
    "        if des is not None:\n",
    "            all_descriptors.append(des)\n",
    "        else:\n",
    "            nans.add(i)\n",
    "\n",
    "    print(len(nans))\n",
    "    return all_descriptors, nans"
   ]
  },
  {
   "cell_type": "code",
   "execution_count": 14,
   "id": "04d5d971",
   "metadata": {},
   "outputs": [
    {
     "name": "stdout",
     "output_type": "stream",
     "text": [
      "8\n"
     ]
    }
   ],
   "source": [
    "sift_features, nans = extract_dsift(X_train_int)\n",
    "all_descriptors = np.vstack(sift_features)"
   ]
  },
  {
   "cell_type": "code",
   "execution_count": 16,
   "id": "48645caa",
   "metadata": {},
   "outputs": [
    {
     "data": {
      "text/plain": [
       "35000"
      ]
     },
     "execution_count": 16,
     "metadata": {},
     "output_type": "execute_result"
    }
   ],
   "source": [
    "len(X_train)"
   ]
  },
  {
   "cell_type": "code",
   "execution_count": 17,
   "id": "1b00ccec",
   "metadata": {},
   "outputs": [],
   "source": [
    "kmeans = KMeans(n_clusters=20).fit(all_descriptors)"
   ]
  },
  {
   "cell_type": "markdown",
   "id": "4021bfbe",
   "metadata": {},
   "source": [
    "## Creating Histogram of training image"
   ]
  },
  {
   "cell_type": "code",
   "execution_count": 15,
   "id": "d874931d",
   "metadata": {},
   "outputs": [],
   "source": [
    "def count_visual_words(dense_feat: List[np.ndarray], centroids: List[np.ndarray]) -> List[np.ndarray]:\n",
    "    histograms = []\n",
    "\n",
    "    for k in range(0, len(dense_feat)):\n",
    "        distances = sklearn_pairwise.pairwise_distances(dense_feat[k], centroids)\n",
    "        clusters = np.argmin(distances, axis=1)\n",
    "        histogram = np.histogram(clusters, bins = range(len(centroids)))\n",
    "        histograms.append(histogram[0])\n",
    "\n",
    "    return histograms"
   ]
  },
  {
   "cell_type": "code",
   "execution_count": 18,
   "id": "dd2c8ad1",
   "metadata": {},
   "outputs": [],
   "source": [
    "histograms_train = count_visual_words(sift_features, kmeans.cluster_centers_)"
   ]
  },
  {
   "cell_type": "code",
   "execution_count": 19,
   "id": "b3256cd7",
   "metadata": {},
   "outputs": [],
   "source": [
    "def get_data_without_nan(data, nan):\n",
    "    without_nan = []\n",
    "\n",
    "    for i in range(len(data)):\n",
    "        if i not in nan:\n",
    "            without_nan.append(y_train[i])\n",
    "\n",
    "    return without_nan"
   ]
  },
  {
   "cell_type": "code",
   "execution_count": 20,
   "id": "c30d3bb4",
   "metadata": {},
   "outputs": [],
   "source": [
    "y_train_sift = get_data_without_nan(y_train, nans)"
   ]
  },
  {
   "cell_type": "markdown",
   "id": "fc61ce6f",
   "metadata": {},
   "source": [
    "## Test The Histograms as Features for classification:"
   ]
  },
  {
   "cell_type": "code",
   "execution_count": 21,
   "id": "755c9e8c",
   "metadata": {},
   "outputs": [
    {
     "name": "stdout",
     "output_type": "stream",
     "text": [
      "0\n"
     ]
    }
   ],
   "source": [
    "test_descriptors, test_nan = extract_dsift(X_test_int)\n",
    "test_histograms = count_visual_words(test_descriptors, kmeans.cluster_centers_)"
   ]
  },
  {
   "cell_type": "code",
   "execution_count": 22,
   "id": "ff26274a",
   "metadata": {},
   "outputs": [],
   "source": [
    "y_test_sift = get_data_without_nan(y_test, test_nan)"
   ]
  },
  {
   "cell_type": "code",
   "execution_count": 23,
   "id": "6ad6ed4e",
   "metadata": {},
   "outputs": [
    {
     "name": "stdout",
     "output_type": "stream",
     "text": [
      "Trying KNeighborsClassifier()\n",
      "Fitted, best are {'clf__n_neighbors': 25, 'clf__weights': 'distance'} with cross val score of 0.24662791209996476.\n",
      "Accuracy on Test Set is 0.0946\n",
      "Trying MLPClassifier()\n",
      "Fitted, best are {'clf__activation': 'relu', 'clf__hidden_layer_sizes': (50,), 'clf__learning_rate': 'adaptive', 'clf__learning_rate_init': 0.01} with cross val score of 0.27746364043922334.\n",
      "Accuracy on Test Set is 0.0923\n",
      "Trying GaussianNB()\n",
      "Fitted, best are {} with cross val score of 0.24794259384868642.\n",
      "Accuracy on Test Set is 0.0997\n",
      "Trying DecisionTreeClassifier()\n",
      "Fitted, best are {'clf__criterion': 'entropy', 'clf__splitter': 'best'} with cross val score of 0.16592355638442777.\n",
      "Accuracy on Test Set is 0.1003\n",
      "Trying RandomForestClassifier(random_state=123)\n",
      "Fitted, best are {'clf__criterion': 'gini', 'clf__n_estimators': 100} with cross val score of 0.26503214173290013.\n",
      "Accuracy on Test Set is 0.0962\n",
      "Best Classifier is (DecisionTreeClassifier(), {'clf__criterion': 'entropy', 'clf__splitter': 'best'}) with an accuracy of 0.1003, predicting took 0.010061025619506836 seconds and this whole process took 00:03:34.82\n"
     ]
    }
   ],
   "source": [
    "evaluate_featureate_feature(histograms_train, y_train_sift, test_histograms, y_test_sift)"
   ]
  },
  {
   "cell_type": "markdown",
   "id": "131a0246",
   "metadata": {},
   "source": [
    "We get an accuracy of 10.03% which is just slightly better than randomly guessing (our classes are evenly distributed and we have 10 classes)."
   ]
  },
  {
   "cell_type": "code",
   "execution_count": 26,
   "id": "5b9104f6",
   "metadata": {},
   "outputs": [
    {
     "name": "stdout",
     "output_type": "stream",
     "text": [
      "Fit Time: 0.3300337791442871 seconds\n"
     ]
    }
   ],
   "source": [
    "from sklearn import tree\n",
    "import time\n",
    "\n",
    "cl = tree.DecisionTreeClassifier(criterion='entropy', splitter='best')\n",
    "ping = time.time()\n",
    "cl = cl.fit(histograms_train, y_train_sift)\n",
    "print(f\"Fit Time: {time.time()-ping} seconds\")"
   ]
  }
 ],
 "metadata": {
  "kernelspec": {
   "display_name": "Python 3",
   "language": "python",
   "name": "python3"
  },
  "language_info": {
   "codemirror_mode": {
    "name": "ipython",
    "version": 3
   },
   "file_extension": ".py",
   "mimetype": "text/x-python",
   "name": "python",
   "nbconvert_exporter": "python",
   "pygments_lexer": "ipython3",
   "version": "3.8.8"
  }
 },
 "nbformat": 4,
 "nbformat_minor": 5
}
