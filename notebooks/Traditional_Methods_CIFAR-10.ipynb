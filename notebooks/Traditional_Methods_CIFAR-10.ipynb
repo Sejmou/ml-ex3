{
 "cells": [
  {
   "cell_type": "code",
   "execution_count": 1,
   "id": "3802e023",
   "metadata": {},
   "outputs": [],
   "source": [
    "import sys\n",
    "sys.path.append('./helper_scripts/')# make script files in ml-ex3 accessible"
   ]
  },
  {
   "cell_type": "code",
   "execution_count": 2,
   "id": "ed7a372f",
   "metadata": {},
   "outputs": [],
   "source": [
    "from data_loaders import CIFAR10Loader"
   ]
  },
  {
   "cell_type": "code",
   "execution_count": 3,
   "id": "c6512f68",
   "metadata": {},
   "outputs": [
    {
     "name": "stdout",
     "output_type": "stream",
     "text": [
      "CIFAR-10 dataset already downloaded, loading files from memory\n",
      "loading training images and labels\n",
      "loading test images and labels\n",
      "done\n",
      "processing training images\n",
      "processing test images\n",
      "done processing, creating train/val/test split\n"
     ]
    }
   ],
   "source": [
    "X_train, X_val, X_test, y_train, y_val, y_test = CIFAR10Loader('./data/CIFAR-10').get_processed_imgs(target_width = 32, target_height = 32, normalize=False)"
   ]
  },
  {
   "cell_type": "markdown",
   "id": "b63ec755",
   "metadata": {},
   "source": [
    "For the purposes of traditional feature extraction we do not need a validation set so let's append it to our training set:"
   ]
  },
  {
   "cell_type": "code",
   "execution_count": 4,
   "id": "25f98df8",
   "metadata": {},
   "outputs": [],
   "source": [
    "import numpy as np\n",
    "\n",
    "X_train = np.concatenate((X_train, X_val))\n",
    "y_train = np.concatenate((y_train, y_val))"
   ]
  },
  {
   "cell_type": "markdown",
   "id": "f24b5421",
   "metadata": {},
   "source": [
    "To evaluate a given feature we use a self written function that tests some classifiers and evaluates their performance on the passed feature:"
   ]
  },
  {
   "cell_type": "code",
   "execution_count": 5,
   "id": "92b006d9",
   "metadata": {},
   "outputs": [],
   "source": [
    "from traditional_ml import evaluate_feature"
   ]
  },
  {
   "cell_type": "markdown",
   "id": "e5ac3ba2",
   "metadata": {},
   "source": [
    "# Color Histograms"
   ]
  },
  {
   "cell_type": "code",
   "execution_count": 6,
   "id": "e9e9197c",
   "metadata": {},
   "outputs": [],
   "source": [
    "from PIL import Image\n",
    "\n",
    "def get_color_hist_from_image(image):\n",
    "    res = Image.fromarray(image).convert('RGB')\n",
    "    return res.histogram()"
   ]
  },
  {
   "cell_type": "code",
   "execution_count": 7,
   "id": "975a4d49",
   "metadata": {},
   "outputs": [],
   "source": [
    "X_train = [get_color_hist_from_image(i) for i in X_train]\n",
    "X_test = [get_color_hist_from_image(i) for i in X_test]"
   ]
  },
  {
   "cell_type": "code",
   "execution_count": 8,
   "id": "0477568c",
   "metadata": {},
   "outputs": [
    {
     "name": "stdout",
     "output_type": "stream",
     "text": [
      "Trying KNeighborsClassifier()\n",
      "Fitted, best are {'clf__n_neighbors': 25, 'clf__weights': 'distance'} with cross val score of 0.29606000000000005.\n",
      "Accuracy on Test Set is 0.2998\n",
      "Trying MLPClassifier()\n"
     ]
    },
    {
     "name": "stderr",
     "output_type": "stream",
     "text": [
      "C:\\Users\\andre\\anaconda3\\lib\\site-packages\\sklearn\\neural_network\\_multilayer_perceptron.py:692: ConvergenceWarning: Stochastic Optimizer: Maximum iterations (200) reached and the optimization hasn't converged yet.\n",
      "  warnings.warn(\n"
     ]
    },
    {
     "name": "stdout",
     "output_type": "stream",
     "text": [
      "Fitted, best are {'clf__activation': 'tanh', 'clf__hidden_layer_sizes': (50,), 'clf__learning_rate': 'adaptive', 'clf__learning_rate_init': 0.01} with cross val score of 0.25926.\n",
      "Accuracy on Test Set is 0.2702\n",
      "Trying GaussianNB()\n",
      "Fitted, best are {} with cross val score of 0.24009999999999998.\n",
      "Accuracy on Test Set is 0.2481\n",
      "Trying DecisionTreeClassifier()\n",
      "Fitted, best are {'clf__criterion': 'gini', 'clf__splitter': 'best'} with cross val score of 0.19316.\n",
      "Accuracy on Test Set is 0.1957\n",
      "Trying RandomForestClassifier(random_state=123)\n",
      "Fitted, best are {'clf__criterion': 'gini', 'clf__n_estimators': 100} with cross val score of 0.3256.\n",
      "Accuracy on Test Set is 0.3296\n",
      "Best Classifier is (RandomForestClassifier(random_state=123), {'clf__criterion': 'gini', 'clf__n_estimators': 100}) with an accuracy of 0.3296, predicting took 1.210282325744629 seconds and this whole process took 00:29:03.70\n"
     ]
    }
   ],
   "source": [
    "evaluate_feature(X_train, y_train, X_test, y_test)"
   ]
  },
  {
   "cell_type": "markdown",
   "id": "b0fd9baa",
   "metadata": {},
   "source": [
    "So using color histograms we can achieve an accuracy of 32.96% on this test set. How long does the RandomForest Model take to train?"
   ]
  },
  {
   "cell_type": "code",
   "execution_count": 10,
   "id": "ea14592c",
   "metadata": {},
   "outputs": [
    {
     "name": "stdout",
     "output_type": "stream",
     "text": [
      "Fit Time: 47.48492121696472 seconds\n"
     ]
    }
   ],
   "source": [
    "from sklearn import ensemble\n",
    "import time\n",
    "\n",
    "cl = ensemble.RandomForestClassifier(random_state=123, criterion='gini', n_estimators=100)\n",
    "ping = time.time()\n",
    "cl = cl.fit(X_train, y_train)\n",
    "print(f\"Fit Time: {time.time()-ping} seconds\")"
   ]
  }
 ],
 "metadata": {
  "kernelspec": {
   "display_name": "Python 3",
   "language": "python",
   "name": "python3"
  },
  "language_info": {
   "codemirror_mode": {
    "name": "ipython",
    "version": 3
   },
   "file_extension": ".py",
   "mimetype": "text/x-python",
   "name": "python",
   "nbconvert_exporter": "python",
   "pygments_lexer": "ipython3",
   "version": "3.8.8"
  }
 },
 "nbformat": 4,
 "nbformat_minor": 5
}
