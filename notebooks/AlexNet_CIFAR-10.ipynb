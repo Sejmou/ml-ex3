{
 "cells": [
  {
   "cell_type": "markdown",
   "metadata": {
    "id": "2Is9TW6Qu7_S"
   },
   "source": [
    "# Training AlexNet on CIFAR-10 dataset"
   ]
  },
  {
   "cell_type": "markdown",
   "metadata": {
    "id": "j4BgDebZvCOZ"
   },
   "source": [
    "We built the [AlexNet](https://proceedings.neurips.cc/paper/2012/file/c399862d3b9d6b76c8436e924a68c45b-Paper.pdf) model based on [this](https://towardsdatascience.com/implementing-alexnet-cnn-architecture-using-tensorflow-2-0-and-keras-2113e090ad98) tutorial (code available [here](https://github.com/RichmondAlake/tensorflow_2_tutorials/blob/master/015_alexnet.ipynb))."
   ]
  },
  {
   "cell_type": "code",
   "execution_count": 1,
   "metadata": {
    "executionInfo": {
     "elapsed": 4641,
     "status": "ok",
     "timestamp": 1645215889605,
     "user": {
      "displayName": "Samo Kolter",
      "photoUrl": "https://lh3.googleusercontent.com/a-/AOh14Gil4Kv_6LvpplaB_-McBruMM-gDeC02PIpPptE6fw=s64",
      "userId": "18136484303365185953"
     },
     "user_tz": -60
    },
    "id": "XmcRFT4OVnyZ",
    "scrolled": true
   },
   "outputs": [],
   "source": [
    "import tensorflow as tf\n",
    "from tensorflow import keras\n",
    "import numpy as np\n",
    "import matplotlib.pyplot as plt\n",
    "import os\n",
    "import time\n",
    "import seaborn as sns\n",
    "from sklearn.metrics import accuracy_score, confusion_matrix, classification_report\n",
    "import pandas as pd\n",
    "from datetime import datetime"
   ]
  },
  {
   "cell_type": "code",
   "execution_count": 2,
   "metadata": {
    "colab": {
     "base_uri": "https://localhost:8080/"
    },
    "executionInfo": {
     "elapsed": 51749,
     "status": "ok",
     "timestamp": 1645215941350,
     "user": {
      "displayName": "Samo Kolter",
      "photoUrl": "https://lh3.googleusercontent.com/a-/AOh14Gil4Kv_6LvpplaB_-McBruMM-gDeC02PIpPptE6fw=s64",
      "userId": "18136484303365185953"
     },
     "user_tz": -60
    },
    "id": "RIS4_de6qSke",
    "outputId": "228c67ed-3fa7-4fdb-bbe8-814717234b2f"
   },
   "outputs": [],
   "source": [
    "# comment out those two lines if not using Google Colab with Google Drive\n",
    "#from google.colab import drive\n",
    "#drive.mount('/content/drive')\n",
    "\n",
    "#save_path = f'/content/drive/MyDrive/Studium/Master/1. Semester/Machine Learning/ex3/CIFAR-10/AlexNet/{datetime.now().strftime(\"%Y-%m-%d_%H-%M-%S\")}/'\n",
    "save_path = f'./CIFAR-10/AlexNet/{datetime.now().strftime(\"%Y-%m-%d_%H-%M-%S\")}/'# use this when running locally"
   ]
  },
  {
   "cell_type": "markdown",
   "metadata": {
    "id": "BEm_SBsTZPEx"
   },
   "source": [
    "## Load data"
   ]
  },
  {
   "cell_type": "code",
   "execution_count": 3,
   "metadata": {},
   "outputs": [
    {
     "name": "stdout",
     "output_type": "stream",
     "text": [
      "AlexNet_3_epoch_results.ipynb\t    GTSRB\r\n",
      "AlexNet_3_epoch_results_eval.ipynb  data\r\n",
      "AlexNet_CIFAR-10.ipynb\t\t    ex3\r\n",
      "AlexNet_GTSRB.ipynb\t\t    local_results_AlexNet.zip\r\n",
      "AlexNet_Keras.ipynb\t\t    ml-ex3\r\n"
     ]
    }
   ],
   "source": [
    "!ls"
   ]
  },
  {
   "cell_type": "code",
   "execution_count": 4,
   "metadata": {
    "colab": {
     "base_uri": "https://localhost:8080/"
    },
    "executionInfo": {
     "elapsed": 807,
     "status": "ok",
     "timestamp": 1645215942148,
     "user": {
      "displayName": "Samo Kolter",
      "photoUrl": "https://lh3.googleusercontent.com/a-/AOh14Gil4Kv_6LvpplaB_-McBruMM-gDeC02PIpPptE6fw=s64",
      "userId": "18136484303365185953"
     },
     "user_tz": -60
    },
    "id": "KRiupnnPxxSH",
    "outputId": "04b3d3a3-70db-4c83-a6eb-5692fc0dbfae"
   },
   "outputs": [
    {
     "name": "stdout",
     "output_type": "stream",
     "text": [
      "fatal: destination path 'ml-ex3' already exists and is not an empty directory.\r\n"
     ]
    }
   ],
   "source": [
    "!git clone https://github.com/Sejmou/ml-ex3.git"
   ]
  },
  {
   "cell_type": "code",
   "execution_count": 5,
   "metadata": {
    "executionInfo": {
     "elapsed": 4,
     "status": "ok",
     "timestamp": 1645215942149,
     "user": {
      "displayName": "Samo Kolter",
      "photoUrl": "https://lh3.googleusercontent.com/a-/AOh14Gil4Kv_6LvpplaB_-McBruMM-gDeC02PIpPptE6fw=s64",
      "userId": "18136484303365185953"
     },
     "user_tz": -60
    },
    "id": "CGgpNA2Gx2VI"
   },
   "outputs": [],
   "source": [
    "import sys\n",
    "sys.path.append('./ml-ex3/')# make script files in ml-ex3 accessible"
   ]
  },
  {
   "cell_type": "code",
   "execution_count": 6,
   "metadata": {
    "executionInfo": {
     "elapsed": 306,
     "status": "ok",
     "timestamp": 1645216113834,
     "user": {
      "displayName": "Samo Kolter",
      "photoUrl": "https://lh3.googleusercontent.com/a-/AOh14Gil4Kv_6LvpplaB_-McBruMM-gDeC02PIpPptE6fw=s64",
      "userId": "18136484303365185953"
     },
     "user_tz": -60
    },
    "id": "QjaTfLtfyBvm"
   },
   "outputs": [],
   "source": [
    "from data_loaders import CIFAR10Loader"
   ]
  },
  {
   "cell_type": "code",
   "execution_count": 7,
   "metadata": {
    "executionInfo": {
     "elapsed": 4,
     "status": "ok",
     "timestamp": 1645215942150,
     "user": {
      "displayName": "Samo Kolter",
      "photoUrl": "https://lh3.googleusercontent.com/a-/AOh14Gil4Kv_6LvpplaB_-McBruMM-gDeC02PIpPptE6fw=s64",
      "userId": "18136484303365185953"
     },
     "user_tz": -60
    },
    "id": "RDoIl4lHgqoC"
   },
   "outputs": [],
   "source": [
    "IMG_WIDTH = IMG_HEIGHT = 257 # AlexNet expects images of size 257 x 257 as input"
   ]
  },
  {
   "cell_type": "code",
   "execution_count": 8,
   "metadata": {
    "colab": {
     "base_uri": "https://localhost:8080/"
    },
    "executionInfo": {
     "elapsed": 12375,
     "status": "ok",
     "timestamp": 1645216129892,
     "user": {
      "displayName": "Samo Kolter",
      "photoUrl": "https://lh3.googleusercontent.com/a-/AOh14Gil4Kv_6LvpplaB_-McBruMM-gDeC02PIpPptE6fw=s64",
      "userId": "18136484303365185953"
     },
     "user_tz": -60
    },
    "id": "4rczoC_1BhF2",
    "outputId": "057487c1-e17d-482c-b667-644224737545"
   },
   "outputs": [
    {
     "name": "stdout",
     "output_type": "stream",
     "text": [
      "Downloading CIFAR-10 data from https://www.cs.toronto.edu/~kriz/cifar-10-python.tar.gz\n",
      "Finished downloading required files for {self.DATA} dataset\n",
      "loading training images and labels\n",
      "loading test images and labels\n",
      "done\n",
      "processing training images\n",
      "processing test images\n",
      "done processing, creating train/val/test split\n"
     ]
    }
   ],
   "source": [
    "X_train, X_val, X_test, y_train, y_val, y_test = CIFAR10Loader('./data/CIFAR-10').get_processed_imgs(target_width = 32, target_height = 32)# cannot resize to 257 directly, our implementation is too RAM-hungry"
   ]
  },
  {
   "cell_type": "code",
   "execution_count": 9,
   "metadata": {
    "executionInfo": {
     "elapsed": 15,
     "status": "ok",
     "timestamp": 1645216129894,
     "user": {
      "displayName": "Samo Kolter",
      "photoUrl": "https://lh3.googleusercontent.com/a-/AOh14Gil4Kv_6LvpplaB_-McBruMM-gDeC02PIpPptE6fw=s64",
      "userId": "18136484303365185953"
     },
     "user_tz": -60
    },
    "id": "tAqn_ugZkZbs"
   },
   "outputs": [],
   "source": [
    "def resize_images(image, label):\n",
    "    # Normalize images to have a mean of 0 and standard deviation of 1\n",
    "    image = tf.image.per_image_standardization(image)\n",
    "    # Resize images from 32x32 to 277x277\n",
    "    image = tf.image.resize(image, (IMG_WIDTH, IMG_HEIGHT))\n",
    "    return image, label"
   ]
  },
  {
   "cell_type": "code",
   "execution_count": 10,
   "metadata": {
    "executionInfo": {
     "elapsed": 15,
     "status": "ok",
     "timestamp": 1645216129894,
     "user": {
      "displayName": "Samo Kolter",
      "photoUrl": "https://lh3.googleusercontent.com/a-/AOh14Gil4Kv_6LvpplaB_-McBruMM-gDeC02PIpPptE6fw=s64",
      "userId": "18136484303365185953"
     },
     "user_tz": -60
    },
    "id": "hSUFeXy4hfUw"
   },
   "outputs": [],
   "source": [
    "NUM_CLASSES = len(np.unique(y_test))"
   ]
  },
  {
   "cell_type": "code",
   "execution_count": 11,
   "metadata": {
    "colab": {
     "base_uri": "https://localhost:8080/"
    },
    "executionInfo": {
     "elapsed": 57089,
     "status": "ok",
     "timestamp": 1645216186969,
     "user": {
      "displayName": "Samo Kolter",
      "photoUrl": "https://lh3.googleusercontent.com/a-/AOh14Gil4Kv_6LvpplaB_-McBruMM-gDeC02PIpPptE6fw=s64",
      "userId": "18136484303365185953"
     },
     "user_tz": -60
    },
    "id": "thhDW1KpVnyd",
    "outputId": "787db3fa-cfd1-42b4-8e21-8941fa42eda4"
   },
   "outputs": [
    {
     "data": {
      "text/plain": [
       "0"
      ]
     },
     "execution_count": 11,
     "metadata": {},
     "output_type": "execute_result"
    }
   ],
   "source": [
    "train_ds = tf.data.Dataset.from_tensor_slices((X_train, y_train))\n",
    "test_ds = tf.data.Dataset.from_tensor_slices((X_test, y_test))\n",
    "validation_ds = tf.data.Dataset.from_tensor_slices((X_val, y_val))\n",
    "\n",
    "import gc\n",
    "# make sure we get rid of all unused memory; we need every little piece of RAM!\n",
    "del X_train\n",
    "del y_train\n",
    "del X_test\n",
    "del y_test\n",
    "del X_val\n",
    "del y_val\n",
    "gc.collect()"
   ]
  },
  {
   "cell_type": "code",
   "execution_count": 12,
   "metadata": {
    "executionInfo": {
     "elapsed": 10211,
     "status": "ok",
     "timestamp": 1645216197167,
     "user": {
      "displayName": "Samo Kolter",
      "photoUrl": "https://lh3.googleusercontent.com/a-/AOh14Gil4Kv_6LvpplaB_-McBruMM-gDeC02PIpPptE6fw=s64",
      "userId": "18136484303365185953"
     },
     "user_tz": -60
    },
    "id": "rXhwDpPCVnyg"
   },
   "outputs": [],
   "source": [
    "train_ds_size = len(list(train_ds))\n",
    "train_ds_size = len(list(test_ds))\n",
    "validation_ds_size = len(list(validation_ds))"
   ]
  },
  {
   "cell_type": "code",
   "execution_count": 13,
   "metadata": {
    "executionInfo": {
     "elapsed": 15,
     "status": "ok",
     "timestamp": 1645216197168,
     "user": {
      "displayName": "Samo Kolter",
      "photoUrl": "https://lh3.googleusercontent.com/a-/AOh14Gil4Kv_6LvpplaB_-McBruMM-gDeC02PIpPptE6fw=s64",
      "userId": "18136484303365185953"
     },
     "user_tz": -60
    },
    "id": "e5Xk1tmIVnyh"
   },
   "outputs": [],
   "source": [
    "train_ds = (train_ds\n",
    "                  .map(resize_images)\n",
    "                  #.shuffle(buffer_size=train_ds_size)\n",
    "                  .batch(batch_size=8, drop_remainder=True))\n",
    "\n",
    "test_ds = (test_ds\n",
    "                  .map(resize_images)\n",
    "                  #.shuffle(buffer_size=train_ds_size)\n",
    "                  .batch(batch_size=8, drop_remainder=True))\n",
    "\n",
    "validation_ds = (validation_ds\n",
    "                  .map(resize_images)\n",
    "                  #.shuffle(buffer_size=train_ds_size)\n",
    "                  .batch(batch_size=8, drop_remainder=True))"
   ]
  },
  {
   "cell_type": "markdown",
   "metadata": {
    "id": "ReQSvgUFRJrM"
   },
   "source": [
    "## Defining The Model"
   ]
  },
  {
   "cell_type": "code",
   "execution_count": 14,
   "metadata": {
    "executionInfo": {
     "elapsed": 15,
     "status": "ok",
     "timestamp": 1645216197169,
     "user": {
      "displayName": "Samo Kolter",
      "photoUrl": "https://lh3.googleusercontent.com/a-/AOh14Gil4Kv_6LvpplaB_-McBruMM-gDeC02PIpPptE6fw=s64",
      "userId": "18136484303365185953"
     },
     "user_tz": -60
    },
    "id": "7ODOmaGEVnyj"
   },
   "outputs": [],
   "source": [
    "def create_AlexNet():\n",
    "  return keras.models.Sequential([\n",
    "    keras.layers.Conv2D(filters=96, kernel_size=(11,11), strides=(4,4), activation='relu', input_shape=(IMG_WIDTH,IMG_HEIGHT,3)),\n",
    "    keras.layers.BatchNormalization(),\n",
    "    keras.layers.MaxPool2D(pool_size=(3,3), strides=(2,2)),\n",
    "    keras.layers.Conv2D(filters=256, kernel_size=(5,5), strides=(1,1), activation='relu', padding=\"same\"),\n",
    "    keras.layers.BatchNormalization(),\n",
    "    keras.layers.MaxPool2D(pool_size=(3,3), strides=(2,2)),\n",
    "    keras.layers.Conv2D(filters=384, kernel_size=(3,3), strides=(1,1), activation='relu', padding=\"same\"),\n",
    "    keras.layers.BatchNormalization(),\n",
    "    keras.layers.Conv2D(filters=384, kernel_size=(1,1), strides=(1,1), activation='relu', padding=\"same\"),\n",
    "    keras.layers.BatchNormalization(),\n",
    "    keras.layers.Conv2D(filters=256, kernel_size=(1,1), strides=(1,1), activation='relu', padding=\"same\"),\n",
    "    keras.layers.BatchNormalization(),\n",
    "    keras.layers.MaxPool2D(pool_size=(3,3), strides=(2,2)),\n",
    "    keras.layers.Flatten(),\n",
    "    keras.layers.Dense(4096, activation='relu'),\n",
    "    keras.layers.Dropout(0.5),\n",
    "    keras.layers.Dense(4096, activation='relu'),\n",
    "    keras.layers.Dropout(0.5),\n",
    "    keras.layers.Dense(NUM_CLASSES, activation='softmax')\n",
    "  ])"
   ]
  },
  {
   "cell_type": "code",
   "execution_count": 15,
   "metadata": {
    "executionInfo": {
     "elapsed": 920,
     "status": "ok",
     "timestamp": 1645216198074,
     "user": {
      "displayName": "Samo Kolter",
      "photoUrl": "https://lh3.googleusercontent.com/a-/AOh14Gil4Kv_6LvpplaB_-McBruMM-gDeC02PIpPptE6fw=s64",
      "userId": "18136484303365185953"
     },
     "user_tz": -60
    },
    "id": "Ihc25Zu_Y2ZC"
   },
   "outputs": [],
   "source": [
    "model = create_AlexNet()"
   ]
  },
  {
   "cell_type": "code",
   "execution_count": 16,
   "metadata": {
    "colab": {
     "base_uri": "https://localhost:8080/"
    },
    "executionInfo": {
     "elapsed": 49,
     "status": "ok",
     "timestamp": 1645216198075,
     "user": {
      "displayName": "Samo Kolter",
      "photoUrl": "https://lh3.googleusercontent.com/a-/AOh14Gil4Kv_6LvpplaB_-McBruMM-gDeC02PIpPptE6fw=s64",
      "userId": "18136484303365185953"
     },
     "user_tz": -60
    },
    "id": "5PH4UuhVY11A",
    "outputId": "bf4ffdd4-b70d-4d84-9504-49c281747099"
   },
   "outputs": [
    {
     "name": "stdout",
     "output_type": "stream",
     "text": [
      "Model: \"sequential\"\n",
      "_________________________________________________________________\n",
      " Layer (type)                Output Shape              Param #   \n",
      "=================================================================\n",
      " conv2d (Conv2D)             (None, 62, 62, 96)        34944     \n",
      "                                                                 \n",
      " batch_normalization (BatchN  (None, 62, 62, 96)       384       \n",
      " ormalization)                                                   \n",
      "                                                                 \n",
      " max_pooling2d (MaxPooling2D  (None, 30, 30, 96)       0         \n",
      " )                                                               \n",
      "                                                                 \n",
      " conv2d_1 (Conv2D)           (None, 30, 30, 256)       614656    \n",
      "                                                                 \n",
      " batch_normalization_1 (Batc  (None, 30, 30, 256)      1024      \n",
      " hNormalization)                                                 \n",
      "                                                                 \n",
      " max_pooling2d_1 (MaxPooling  (None, 14, 14, 256)      0         \n",
      " 2D)                                                             \n",
      "                                                                 \n",
      " conv2d_2 (Conv2D)           (None, 14, 14, 384)       885120    \n",
      "                                                                 \n",
      " batch_normalization_2 (Batc  (None, 14, 14, 384)      1536      \n",
      " hNormalization)                                                 \n",
      "                                                                 \n",
      " conv2d_3 (Conv2D)           (None, 14, 14, 384)       147840    \n",
      "                                                                 \n",
      " batch_normalization_3 (Batc  (None, 14, 14, 384)      1536      \n",
      " hNormalization)                                                 \n",
      "                                                                 \n",
      " conv2d_4 (Conv2D)           (None, 14, 14, 256)       98560     \n",
      "                                                                 \n",
      " batch_normalization_4 (Batc  (None, 14, 14, 256)      1024      \n",
      " hNormalization)                                                 \n",
      "                                                                 \n",
      " max_pooling2d_2 (MaxPooling  (None, 6, 6, 256)        0         \n",
      " 2D)                                                             \n",
      "                                                                 \n",
      " flatten (Flatten)           (None, 9216)              0         \n",
      "                                                                 \n",
      " dense (Dense)               (None, 4096)              37752832  \n",
      "                                                                 \n",
      " dropout (Dropout)           (None, 4096)              0         \n",
      "                                                                 \n",
      " dense_1 (Dense)             (None, 4096)              16781312  \n",
      "                                                                 \n",
      " dropout_1 (Dropout)         (None, 4096)              0         \n",
      "                                                                 \n",
      " dense_2 (Dense)             (None, 10)                40970     \n",
      "                                                                 \n",
      "=================================================================\n",
      "Total params: 56,361,738\n",
      "Trainable params: 56,358,986\n",
      "Non-trainable params: 2,752\n",
      "_________________________________________________________________\n"
     ]
    },
    {
     "name": "stderr",
     "output_type": "stream",
     "text": [
      "/usr/local/lib/python3.8/dist-packages/keras/optimizer_v2/gradient_descent.py:102: UserWarning: The `lr` argument is deprecated, use `learning_rate` instead.\n",
      "  super(SGD, self).__init__(name, **kwargs)\n"
     ]
    }
   ],
   "source": [
    "model.compile(loss='sparse_categorical_crossentropy', optimizer=tf.optimizers.SGD(lr=0.001), metrics=['accuracy'])\n",
    "model.summary()"
   ]
  },
  {
   "cell_type": "markdown",
   "metadata": {
    "id": "LuS5x6M5RJrP"
   },
   "source": [
    "### Callbacks (for looking at results, storing checkpoints (weights of model across epochs), fit time)"
   ]
  },
  {
   "cell_type": "code",
   "execution_count": 17,
   "metadata": {
    "executionInfo": {
     "elapsed": 8,
     "status": "ok",
     "timestamp": 1645216198075,
     "user": {
      "displayName": "Samo Kolter",
      "photoUrl": "https://lh3.googleusercontent.com/a-/AOh14Gil4Kv_6LvpplaB_-McBruMM-gDeC02PIpPptE6fw=s64",
      "userId": "18136484303365185953"
     },
     "user_tz": -60
    },
    "id": "m-Ap6omfVnyi"
   },
   "outputs": [],
   "source": [
    "root_logdir = save_path + 'tensor_board'\n",
    "\n",
    "def get_run_logdir():\n",
    "    run_id = time.strftime(\"run_%Y_%m_%d-%H_%M_%S\")\n",
    "    return os.path.join(root_logdir, run_id)\n",
    "\n",
    "run_logdir = get_run_logdir()\n",
    "tensorboard_cb = keras.callbacks.TensorBoard(run_logdir)"
   ]
  },
  {
   "cell_type": "code",
   "execution_count": 18,
   "metadata": {
    "executionInfo": {
     "elapsed": 8,
     "status": "ok",
     "timestamp": 1645216198076,
     "user": {
      "displayName": "Samo Kolter",
      "photoUrl": "https://lh3.googleusercontent.com/a-/AOh14Gil4Kv_6LvpplaB_-McBruMM-gDeC02PIpPptE6fw=s64",
      "userId": "18136484303365185953"
     },
     "user_tz": -60
    },
    "id": "heQdo_bcsOVV"
   },
   "outputs": [],
   "source": [
    "checkpoint_path = save_path + \"checkpoints/cp-{epoch:04d}.ckpt\"\n",
    "checkpoint_dir = os.path.dirname(checkpoint_path)\n",
    "\n",
    "# Create a callback that saves the model's weights\n",
    "checkpoint_cb = tf.keras.callbacks.ModelCheckpoint(filepath=checkpoint_path,\n",
    "                                                 save_weights_only=True,\n",
    "                                                 verbose=1)"
   ]
  },
  {
   "cell_type": "code",
   "execution_count": 19,
   "metadata": {
    "executionInfo": {
     "elapsed": 411,
     "status": "ok",
     "timestamp": 1645216198479,
     "user": {
      "displayName": "Samo Kolter",
      "photoUrl": "https://lh3.googleusercontent.com/a-/AOh14Gil4Kv_6LvpplaB_-McBruMM-gDeC02PIpPptE6fw=s64",
      "userId": "18136484303365185953"
     },
     "user_tz": -60
    },
    "id": "a9-AMvtkalFY"
   },
   "outputs": [],
   "source": [
    "time_path = save_path + 'fit_times.csv'\n",
    "\n",
    "class TimeHistory(keras.callbacks.Callback):\n",
    "    def on_train_begin(self, logs={}):\n",
    "        self.times = []\n",
    "\n",
    "    def on_epoch_begin(self, batch, logs={}):\n",
    "        self.epoch_time_start = time.time()\n",
    "\n",
    "    def on_epoch_end(self, batch, logs={}):\n",
    "      epoch_fit_time = time.time() - self.epoch_time_start\n",
    "      with open(time_path, 'a') as f:\n",
    "        f.write(f'{batch},{epoch_fit_time}\\n')\n",
    "      self.times.append(epoch_fit_time)\n",
    "\n",
    "time_cb = TimeHistory()"
   ]
  },
  {
   "cell_type": "code",
   "execution_count": 20,
   "metadata": {
    "colab": {
     "background_save": true,
     "base_uri": "https://localhost:8080/"
    },
    "id": "3yXbqU6dVnyj"
   },
   "outputs": [
    {
     "name": "stdout",
     "output_type": "stream",
     "text": [
      "Epoch 1/50\n",
      "   5/4375 [..............................] - ETA: 2:08 - loss: 5.7050 - accuracy: 0.1000     WARNING:tensorflow:Callback method `on_train_batch_end` is slow compared to the batch time (batch time: 0.0053s vs `on_train_batch_end` time: 0.0225s). Check your callbacks.\n",
      "4375/4375 [==============================] - ETA: 0s - loss: 1.9478 - accuracy: 0.3577\n",
      "Epoch 1: saving model to ./CIFAR-10/AlexNet/2022-02-18_20-44-29/checkpoints/cp-0001.ckpt\n",
      "4375/4375 [==============================] - 153s 34ms/step - loss: 1.9478 - accuracy: 0.3577 - val_loss: 1.3588 - val_accuracy: 0.5123\n",
      "Epoch 2/50\n",
      "4375/4375 [==============================] - ETA: 0s - loss: 1.4704 - accuracy: 0.4798\n",
      "Epoch 2: saving model to ./CIFAR-10/AlexNet/2022-02-18_20-44-29/checkpoints/cp-0002.ckpt\n",
      "4375/4375 [==============================] - 143s 33ms/step - loss: 1.4704 - accuracy: 0.4798 - val_loss: 1.2223 - val_accuracy: 0.5687\n",
      "Epoch 3/50\n",
      "4375/4375 [==============================] - ETA: 0s - loss: 1.2875 - accuracy: 0.5429\n",
      "Epoch 3: saving model to ./CIFAR-10/AlexNet/2022-02-18_20-44-29/checkpoints/cp-0003.ckpt\n",
      "4375/4375 [==============================] - 144s 33ms/step - loss: 1.2875 - accuracy: 0.5429 - val_loss: 1.0972 - val_accuracy: 0.6116\n",
      "Epoch 4/50\n",
      "4375/4375 [==============================] - ETA: 0s - loss: 1.1467 - accuracy: 0.5950\n",
      "Epoch 4: saving model to ./CIFAR-10/AlexNet/2022-02-18_20-44-29/checkpoints/cp-0004.ckpt\n",
      "4375/4375 [==============================] - 143s 33ms/step - loss: 1.1467 - accuracy: 0.5950 - val_loss: 1.0123 - val_accuracy: 0.6483\n",
      "Epoch 5/50\n",
      "4375/4375 [==============================] - ETA: 0s - loss: 1.0348 - accuracy: 0.6344\n",
      "Epoch 5: saving model to ./CIFAR-10/AlexNet/2022-02-18_20-44-29/checkpoints/cp-0005.ckpt\n",
      "4375/4375 [==============================] - 143s 33ms/step - loss: 1.0348 - accuracy: 0.6344 - val_loss: 0.9479 - val_accuracy: 0.6696\n",
      "Epoch 6/50\n",
      "4375/4375 [==============================] - ETA: 0s - loss: 0.9339 - accuracy: 0.6708\n",
      "Epoch 6: saving model to ./CIFAR-10/AlexNet/2022-02-18_20-44-29/checkpoints/cp-0006.ckpt\n",
      "4375/4375 [==============================] - 143s 33ms/step - loss: 0.9339 - accuracy: 0.6708 - val_loss: 0.9092 - val_accuracy: 0.6860\n",
      "Epoch 7/50\n",
      "4375/4375 [==============================] - ETA: 0s - loss: 0.8440 - accuracy: 0.7038\n",
      "Epoch 7: saving model to ./CIFAR-10/AlexNet/2022-02-18_20-44-29/checkpoints/cp-0007.ckpt\n",
      "4375/4375 [==============================] - 144s 33ms/step - loss: 0.8440 - accuracy: 0.7038 - val_loss: 0.8418 - val_accuracy: 0.7083\n",
      "Epoch 8/50\n",
      "4375/4375 [==============================] - ETA: 0s - loss: 0.7590 - accuracy: 0.7347\n",
      "Epoch 8: saving model to ./CIFAR-10/AlexNet/2022-02-18_20-44-29/checkpoints/cp-0008.ckpt\n",
      "4375/4375 [==============================] - 144s 33ms/step - loss: 0.7590 - accuracy: 0.7347 - val_loss: 0.8262 - val_accuracy: 0.7140\n",
      "Epoch 9/50\n",
      "4375/4375 [==============================] - ETA: 0s - loss: 0.6843 - accuracy: 0.7606\n",
      "Epoch 9: saving model to ./CIFAR-10/AlexNet/2022-02-18_20-44-29/checkpoints/cp-0009.ckpt\n",
      "4375/4375 [==============================] - 145s 33ms/step - loss: 0.6843 - accuracy: 0.7606 - val_loss: 0.7824 - val_accuracy: 0.7318\n",
      "Epoch 10/50\n",
      "4375/4375 [==============================] - ETA: 0s - loss: 0.6184 - accuracy: 0.7837\n",
      "Epoch 10: saving model to ./CIFAR-10/AlexNet/2022-02-18_20-44-29/checkpoints/cp-0010.ckpt\n",
      "4375/4375 [==============================] - 144s 33ms/step - loss: 0.6184 - accuracy: 0.7837 - val_loss: 0.7633 - val_accuracy: 0.7377\n",
      "Epoch 11/50\n",
      "4375/4375 [==============================] - ETA: 0s - loss: 0.5531 - accuracy: 0.8076\n",
      "Epoch 11: saving model to ./CIFAR-10/AlexNet/2022-02-18_20-44-29/checkpoints/cp-0011.ckpt\n",
      "4375/4375 [==============================] - 144s 33ms/step - loss: 0.5531 - accuracy: 0.8076 - val_loss: 0.7525 - val_accuracy: 0.7457\n",
      "Epoch 12/50\n",
      "4375/4375 [==============================] - ETA: 0s - loss: 0.4977 - accuracy: 0.8245\n",
      "Epoch 12: saving model to ./CIFAR-10/AlexNet/2022-02-18_20-44-29/checkpoints/cp-0012.ckpt\n",
      "4375/4375 [==============================] - 143s 33ms/step - loss: 0.4977 - accuracy: 0.8245 - val_loss: 0.7498 - val_accuracy: 0.7501\n",
      "Epoch 13/50\n",
      "4375/4375 [==============================] - ETA: 0s - loss: 0.4328 - accuracy: 0.8502\n",
      "Epoch 13: saving model to ./CIFAR-10/AlexNet/2022-02-18_20-44-29/checkpoints/cp-0013.ckpt\n",
      "4375/4375 [==============================] - 149s 34ms/step - loss: 0.4328 - accuracy: 0.8502 - val_loss: 0.7455 - val_accuracy: 0.7529\n",
      "Epoch 14/50\n",
      "4375/4375 [==============================] - ETA: 0s - loss: 0.3814 - accuracy: 0.8681\n",
      "Epoch 14: saving model to ./CIFAR-10/AlexNet/2022-02-18_20-44-29/checkpoints/cp-0014.ckpt\n",
      "4375/4375 [==============================] - 149s 34ms/step - loss: 0.3814 - accuracy: 0.8681 - val_loss: 0.7449 - val_accuracy: 0.7598\n",
      "Epoch 15/50\n",
      "4375/4375 [==============================] - ETA: 0s - loss: 0.3361 - accuracy: 0.8844\n",
      "Epoch 15: saving model to ./CIFAR-10/AlexNet/2022-02-18_20-44-29/checkpoints/cp-0015.ckpt\n",
      "4375/4375 [==============================] - 149s 34ms/step - loss: 0.3361 - accuracy: 0.8844 - val_loss: 0.7552 - val_accuracy: 0.7603\n",
      "Epoch 16/50\n",
      "4375/4375 [==============================] - ETA: 0s - loss: 0.2901 - accuracy: 0.8985\n",
      "Epoch 16: saving model to ./CIFAR-10/AlexNet/2022-02-18_20-44-29/checkpoints/cp-0016.ckpt\n",
      "4375/4375 [==============================] - 149s 34ms/step - loss: 0.2901 - accuracy: 0.8985 - val_loss: 0.7797 - val_accuracy: 0.7622\n",
      "Epoch 17/50\n",
      "4375/4375 [==============================] - ETA: 0s - loss: 0.2511 - accuracy: 0.9139\n",
      "Epoch 17: saving model to ./CIFAR-10/AlexNet/2022-02-18_20-44-29/checkpoints/cp-0017.ckpt\n",
      "4375/4375 [==============================] - 149s 34ms/step - loss: 0.2511 - accuracy: 0.9139 - val_loss: 0.7845 - val_accuracy: 0.7667\n",
      "Epoch 18/50\n",
      "4375/4375 [==============================] - ETA: 0s - loss: 0.2179 - accuracy: 0.9249\n",
      "Epoch 18: saving model to ./CIFAR-10/AlexNet/2022-02-18_20-44-29/checkpoints/cp-0018.ckpt\n",
      "4375/4375 [==============================] - 149s 34ms/step - loss: 0.2179 - accuracy: 0.9249 - val_loss: 0.8069 - val_accuracy: 0.7681\n",
      "Epoch 19/50\n",
      "4375/4375 [==============================] - ETA: 0s - loss: 0.1874 - accuracy: 0.9371\n",
      "Epoch 19: saving model to ./CIFAR-10/AlexNet/2022-02-18_20-44-29/checkpoints/cp-0019.ckpt\n",
      "4375/4375 [==============================] - 149s 34ms/step - loss: 0.1874 - accuracy: 0.9371 - val_loss: 0.8186 - val_accuracy: 0.7719\n",
      "Epoch 20/50\n",
      "4375/4375 [==============================] - ETA: 0s - loss: 0.1660 - accuracy: 0.9426\n",
      "Epoch 20: saving model to ./CIFAR-10/AlexNet/2022-02-18_20-44-29/checkpoints/cp-0020.ckpt\n",
      "4375/4375 [==============================] - 149s 34ms/step - loss: 0.1660 - accuracy: 0.9426 - val_loss: 0.8486 - val_accuracy: 0.7681\n",
      "Epoch 21/50\n",
      "4375/4375 [==============================] - ETA: 0s - loss: 0.1462 - accuracy: 0.9513\n",
      "Epoch 21: saving model to ./CIFAR-10/AlexNet/2022-02-18_20-44-29/checkpoints/cp-0021.ckpt\n",
      "4375/4375 [==============================] - 149s 34ms/step - loss: 0.1462 - accuracy: 0.9513 - val_loss: 0.8389 - val_accuracy: 0.7735\n",
      "Epoch 22/50\n",
      "4375/4375 [==============================] - ETA: 0s - loss: 0.1334 - accuracy: 0.9556\n",
      "Epoch 22: saving model to ./CIFAR-10/AlexNet/2022-02-18_20-44-29/checkpoints/cp-0022.ckpt\n",
      "4375/4375 [==============================] - 148s 34ms/step - loss: 0.1334 - accuracy: 0.9556 - val_loss: 0.8640 - val_accuracy: 0.7723\n",
      "Epoch 23/50\n",
      "4375/4375 [==============================] - ETA: 0s - loss: 0.1166 - accuracy: 0.9603\n",
      "Epoch 23: saving model to ./CIFAR-10/AlexNet/2022-02-18_20-44-29/checkpoints/cp-0023.ckpt\n",
      "4375/4375 [==============================] - 149s 34ms/step - loss: 0.1166 - accuracy: 0.9603 - val_loss: 0.8761 - val_accuracy: 0.7793\n",
      "Epoch 24/50\n",
      "4375/4375 [==============================] - ETA: 0s - loss: 0.1005 - accuracy: 0.9672\n",
      "Epoch 24: saving model to ./CIFAR-10/AlexNet/2022-02-18_20-44-29/checkpoints/cp-0024.ckpt\n",
      "4375/4375 [==============================] - 149s 34ms/step - loss: 0.1005 - accuracy: 0.9672 - val_loss: 0.9242 - val_accuracy: 0.7759\n",
      "Epoch 25/50\n",
      "4375/4375 [==============================] - ETA: 0s - loss: 0.0927 - accuracy: 0.9703\n",
      "Epoch 25: saving model to ./CIFAR-10/AlexNet/2022-02-18_20-44-29/checkpoints/cp-0025.ckpt\n"
     ]
    },
    {
     "name": "stdout",
     "output_type": "stream",
     "text": [
      "4375/4375 [==============================] - 149s 34ms/step - loss: 0.0927 - accuracy: 0.9703 - val_loss: 0.9210 - val_accuracy: 0.7771\n",
      "Epoch 26/50\n",
      "4375/4375 [==============================] - ETA: 0s - loss: 0.0817 - accuracy: 0.9733\n",
      "Epoch 26: saving model to ./CIFAR-10/AlexNet/2022-02-18_20-44-29/checkpoints/cp-0026.ckpt\n",
      "4375/4375 [==============================] - 149s 34ms/step - loss: 0.0817 - accuracy: 0.9733 - val_loss: 0.9248 - val_accuracy: 0.7790\n",
      "Epoch 27/50\n",
      "4375/4375 [==============================] - ETA: 0s - loss: 0.0733 - accuracy: 0.9767\n",
      "Epoch 27: saving model to ./CIFAR-10/AlexNet/2022-02-18_20-44-29/checkpoints/cp-0027.ckpt\n",
      "4375/4375 [==============================] - 149s 34ms/step - loss: 0.0733 - accuracy: 0.9767 - val_loss: 0.9440 - val_accuracy: 0.7815\n",
      "Epoch 28/50\n",
      "4375/4375 [==============================] - ETA: 0s - loss: 0.0714 - accuracy: 0.9773\n",
      "Epoch 28: saving model to ./CIFAR-10/AlexNet/2022-02-18_20-44-29/checkpoints/cp-0028.ckpt\n",
      "4375/4375 [==============================] - 148s 34ms/step - loss: 0.0714 - accuracy: 0.9773 - val_loss: 0.9483 - val_accuracy: 0.7806\n",
      "Epoch 29/50\n",
      "4375/4375 [==============================] - ETA: 0s - loss: 0.0614 - accuracy: 0.9807\n",
      "Epoch 29: saving model to ./CIFAR-10/AlexNet/2022-02-18_20-44-29/checkpoints/cp-0029.ckpt\n",
      "4375/4375 [==============================] - 149s 34ms/step - loss: 0.0614 - accuracy: 0.9807 - val_loss: 0.9521 - val_accuracy: 0.7814\n",
      "Epoch 30/50\n",
      "4375/4375 [==============================] - ETA: 0s - loss: 0.0569 - accuracy: 0.9818\n",
      "Epoch 30: saving model to ./CIFAR-10/AlexNet/2022-02-18_20-44-29/checkpoints/cp-0030.ckpt\n",
      "4375/4375 [==============================] - 149s 34ms/step - loss: 0.0569 - accuracy: 0.9818 - val_loss: 0.9671 - val_accuracy: 0.7803\n",
      "Epoch 31/50\n",
      "4375/4375 [==============================] - ETA: 0s - loss: 0.0526 - accuracy: 0.9834\n",
      "Epoch 31: saving model to ./CIFAR-10/AlexNet/2022-02-18_20-44-29/checkpoints/cp-0031.ckpt\n",
      "4375/4375 [==============================] - 149s 34ms/step - loss: 0.0526 - accuracy: 0.9834 - val_loss: 0.9943 - val_accuracy: 0.7810\n",
      "Epoch 32/50\n",
      "4375/4375 [==============================] - ETA: 0s - loss: 0.0469 - accuracy: 0.9854\n",
      "Epoch 32: saving model to ./CIFAR-10/AlexNet/2022-02-18_20-44-29/checkpoints/cp-0032.ckpt\n",
      "4375/4375 [==============================] - 149s 34ms/step - loss: 0.0469 - accuracy: 0.9854 - val_loss: 1.0009 - val_accuracy: 0.7851\n",
      "Epoch 33/50\n",
      "4375/4375 [==============================] - ETA: 0s - loss: 0.0435 - accuracy: 0.9861\n",
      "Epoch 33: saving model to ./CIFAR-10/AlexNet/2022-02-18_20-44-29/checkpoints/cp-0033.ckpt\n",
      "4375/4375 [==============================] - 149s 34ms/step - loss: 0.0435 - accuracy: 0.9861 - val_loss: 1.0086 - val_accuracy: 0.7829\n",
      "Epoch 34/50\n",
      "4375/4375 [==============================] - ETA: 0s - loss: 0.0434 - accuracy: 0.9859\n",
      "Epoch 34: saving model to ./CIFAR-10/AlexNet/2022-02-18_20-44-29/checkpoints/cp-0034.ckpt\n",
      "4375/4375 [==============================] - 149s 34ms/step - loss: 0.0434 - accuracy: 0.9859 - val_loss: 0.9960 - val_accuracy: 0.7867\n",
      "Epoch 35/50\n",
      "4375/4375 [==============================] - ETA: 0s - loss: 0.0392 - accuracy: 0.9879\n",
      "Epoch 35: saving model to ./CIFAR-10/AlexNet/2022-02-18_20-44-29/checkpoints/cp-0035.ckpt\n",
      "4375/4375 [==============================] - 149s 34ms/step - loss: 0.0392 - accuracy: 0.9879 - val_loss: 1.0255 - val_accuracy: 0.7849\n",
      "Epoch 36/50\n",
      "4375/4375 [==============================] - ETA: 0s - loss: 0.0374 - accuracy: 0.9886\n",
      "Epoch 36: saving model to ./CIFAR-10/AlexNet/2022-02-18_20-44-29/checkpoints/cp-0036.ckpt\n",
      "4375/4375 [==============================] - 149s 34ms/step - loss: 0.0374 - accuracy: 0.9886 - val_loss: 1.0321 - val_accuracy: 0.7809\n",
      "Epoch 37/50\n",
      "4375/4375 [==============================] - ETA: 0s - loss: 0.0338 - accuracy: 0.9890\n",
      "Epoch 37: saving model to ./CIFAR-10/AlexNet/2022-02-18_20-44-29/checkpoints/cp-0037.ckpt\n",
      "4375/4375 [==============================] - 149s 34ms/step - loss: 0.0338 - accuracy: 0.9890 - val_loss: 1.0525 - val_accuracy: 0.7859\n",
      "Epoch 38/50\n",
      "4375/4375 [==============================] - ETA: 0s - loss: 0.0323 - accuracy: 0.9905\n",
      "Epoch 38: saving model to ./CIFAR-10/AlexNet/2022-02-18_20-44-29/checkpoints/cp-0038.ckpt\n",
      "4375/4375 [==============================] - 149s 34ms/step - loss: 0.0323 - accuracy: 0.9905 - val_loss: 1.0505 - val_accuracy: 0.7875\n",
      "Epoch 39/50\n",
      "4375/4375 [==============================] - ETA: 0s - loss: 0.0318 - accuracy: 0.9905\n",
      "Epoch 39: saving model to ./CIFAR-10/AlexNet/2022-02-18_20-44-29/checkpoints/cp-0039.ckpt\n",
      "4375/4375 [==============================] - 149s 34ms/step - loss: 0.0318 - accuracy: 0.9905 - val_loss: 1.0556 - val_accuracy: 0.7863\n",
      "Epoch 40/50\n",
      "4375/4375 [==============================] - ETA: 0s - loss: 0.0275 - accuracy: 0.9919\n",
      "Epoch 40: saving model to ./CIFAR-10/AlexNet/2022-02-18_20-44-29/checkpoints/cp-0040.ckpt\n",
      "4375/4375 [==============================] - 149s 34ms/step - loss: 0.0275 - accuracy: 0.9919 - val_loss: 1.0439 - val_accuracy: 0.7883\n",
      "Epoch 41/50\n",
      "4375/4375 [==============================] - ETA: 0s - loss: 0.0263 - accuracy: 0.9924\n",
      "Epoch 41: saving model to ./CIFAR-10/AlexNet/2022-02-18_20-44-29/checkpoints/cp-0041.ckpt\n",
      "4375/4375 [==============================] - 149s 34ms/step - loss: 0.0263 - accuracy: 0.9924 - val_loss: 1.0942 - val_accuracy: 0.7840\n",
      "Epoch 42/50\n",
      "4375/4375 [==============================] - ETA: 0s - loss: 0.0234 - accuracy: 0.9929\n",
      "Epoch 42: saving model to ./CIFAR-10/AlexNet/2022-02-18_20-44-29/checkpoints/cp-0042.ckpt\n",
      "4375/4375 [==============================] - 149s 34ms/step - loss: 0.0234 - accuracy: 0.9929 - val_loss: 1.0796 - val_accuracy: 0.7874\n",
      "Epoch 43/50\n",
      "4375/4375 [==============================] - ETA: 0s - loss: 0.0237 - accuracy: 0.9930\n",
      "Epoch 43: saving model to ./CIFAR-10/AlexNet/2022-02-18_20-44-29/checkpoints/cp-0043.ckpt\n",
      "4375/4375 [==============================] - 149s 34ms/step - loss: 0.0237 - accuracy: 0.9930 - val_loss: 1.0843 - val_accuracy: 0.7895\n",
      "Epoch 44/50\n",
      "4375/4375 [==============================] - ETA: 0s - loss: 0.0250 - accuracy: 0.9922\n",
      "Epoch 44: saving model to ./CIFAR-10/AlexNet/2022-02-18_20-44-29/checkpoints/cp-0044.ckpt\n",
      "4375/4375 [==============================] - 149s 34ms/step - loss: 0.0250 - accuracy: 0.9922 - val_loss: 1.1055 - val_accuracy: 0.7839\n",
      "Epoch 45/50\n",
      "4375/4375 [==============================] - ETA: 0s - loss: 0.0234 - accuracy: 0.9926\n",
      "Epoch 45: saving model to ./CIFAR-10/AlexNet/2022-02-18_20-44-29/checkpoints/cp-0045.ckpt\n",
      "4375/4375 [==============================] - 149s 34ms/step - loss: 0.0234 - accuracy: 0.9926 - val_loss: 1.0704 - val_accuracy: 0.7889\n",
      "Epoch 46/50\n",
      "4375/4375 [==============================] - ETA: 0s - loss: 0.0205 - accuracy: 0.9941\n",
      "Epoch 46: saving model to ./CIFAR-10/AlexNet/2022-02-18_20-44-29/checkpoints/cp-0046.ckpt\n",
      "4375/4375 [==============================] - 149s 34ms/step - loss: 0.0205 - accuracy: 0.9941 - val_loss: 1.1285 - val_accuracy: 0.7865\n",
      "Epoch 47/50\n",
      "4375/4375 [==============================] - ETA: 0s - loss: 0.0187 - accuracy: 0.9949\n",
      "Epoch 47: saving model to ./CIFAR-10/AlexNet/2022-02-18_20-44-29/checkpoints/cp-0047.ckpt\n",
      "4375/4375 [==============================] - 149s 34ms/step - loss: 0.0187 - accuracy: 0.9949 - val_loss: 1.1406 - val_accuracy: 0.7870\n",
      "Epoch 48/50\n",
      "4375/4375 [==============================] - ETA: 0s - loss: 0.0221 - accuracy: 0.9927\n",
      "Epoch 48: saving model to ./CIFAR-10/AlexNet/2022-02-18_20-44-29/checkpoints/cp-0048.ckpt\n",
      "4375/4375 [==============================] - 149s 34ms/step - loss: 0.0221 - accuracy: 0.9927 - val_loss: 1.1295 - val_accuracy: 0.7874\n",
      "Epoch 49/50\n",
      "4375/4375 [==============================] - ETA: 0s - loss: 0.0218 - accuracy: 0.9935\n",
      "Epoch 49: saving model to ./CIFAR-10/AlexNet/2022-02-18_20-44-29/checkpoints/cp-0049.ckpt\n",
      "4375/4375 [==============================] - 149s 34ms/step - loss: 0.0218 - accuracy: 0.9935 - val_loss: 1.1166 - val_accuracy: 0.7929\n",
      "Epoch 50/50\n",
      "4375/4375 [==============================] - ETA: 0s - loss: 0.0192 - accuracy: 0.9945\n",
      "Epoch 50: saving model to ./CIFAR-10/AlexNet/2022-02-18_20-44-29/checkpoints/cp-0050.ckpt\n",
      "4375/4375 [==============================] - 149s 34ms/step - loss: 0.0192 - accuracy: 0.9945 - val_loss: 1.0971 - val_accuracy: 0.7909\n"
     ]
    },
    {
     "data": {
      "text/plain": [
       "<keras.callbacks.History at 0x7fedbd8ef5e0>"
      ]
     },
     "execution_count": 20,
     "metadata": {},
     "output_type": "execute_result"
    }
   ],
   "source": [
    "model.fit(train_ds,\n",
    "          epochs=50,\n",
    "          validation_data=validation_ds,\n",
    "          validation_freq=1,\n",
    "          callbacks=[tensorboard_cb, checkpoint_cb, time_cb])"
   ]
  },
  {
   "cell_type": "markdown",
   "metadata": {
    "id": "07Gk68W6RJrT"
   },
   "source": [
    "## Evaluation on test data"
   ]
  },
  {
   "cell_type": "code",
   "execution_count": 39,
   "metadata": {
    "id": "9h45PymJVnyk",
    "scrolled": true
   },
   "outputs": [
    {
     "name": "stdout",
     "output_type": "stream",
     "text": [
      "1250/1250 [==============================] - 13s 10ms/step - loss: 1.1490 - accuracy: 0.7808\n",
      "Prediction took 12.996456384658813 seconds\n"
     ]
    }
   ],
   "source": [
    "pred_start = time.time()\n",
    "model.evaluate(test_ds)\n",
    "prediction_time = time.time() - pred_start\n",
    "print(f'Prediction took {prediction_time} seconds')"
   ]
  },
  {
   "cell_type": "markdown",
   "metadata": {
    "id": "CNLrigu-4C1M"
   },
   "source": [
    "Let's look at the results in detail:"
   ]
  },
  {
   "cell_type": "code",
   "execution_count": 22,
   "metadata": {
    "id": "Hb6EmADbS5hl"
   },
   "outputs": [],
   "source": [
    "y_preds = model.predict(test_ds)# matrix; row: observation, col: prob. for class\n",
    "y_pred = np.argmax(y_preds, axis=1)"
   ]
  },
  {
   "cell_type": "code",
   "execution_count": 23,
   "metadata": {
    "id": "ooULrs1xS5hm"
   },
   "outputs": [
    {
     "data": {
      "text/plain": [
       "(10000,)"
      ]
     },
     "execution_count": 23,
     "metadata": {},
     "output_type": "execute_result"
    }
   ],
   "source": [
    "y_pred.shape"
   ]
  },
  {
   "cell_type": "code",
   "execution_count": 24,
   "metadata": {
    "id": "wD0QdRvRS5hm"
   },
   "outputs": [],
   "source": [
    "y_test = np.concatenate([y for x, y in test_ds], axis=0)"
   ]
  },
  {
   "cell_type": "code",
   "execution_count": 25,
   "metadata": {
    "id": "V3XMNIeWS5hm"
   },
   "outputs": [
    {
     "data": {
      "text/plain": [
       "(10000,)"
      ]
     },
     "execution_count": 25,
     "metadata": {},
     "output_type": "execute_result"
    }
   ],
   "source": [
    "y_test.shape"
   ]
  },
  {
   "cell_type": "code",
   "execution_count": 26,
   "metadata": {
    "id": "V4TZSpK_S5hn"
   },
   "outputs": [
    {
     "name": "stdout",
     "output_type": "stream",
     "text": [
      "Test Data accuracy(%):  78.08\n"
     ]
    }
   ],
   "source": [
    "print('Test Data accuracy(%): ', accuracy_score(y_test, y_pred)*100)"
   ]
  },
  {
   "cell_type": "code",
   "execution_count": 27,
   "metadata": {
    "id": "lJz1sbwKfww-"
   },
   "outputs": [],
   "source": [
    "cf = confusion_matrix(y_test, y_pred)"
   ]
  },
  {
   "cell_type": "code",
   "execution_count": 30,
   "metadata": {
    "colab": {
     "background_save": true
    },
    "id": "CxzR3aP8S5ho"
   },
   "outputs": [],
   "source": [
    "# mapping of numeric label to text label\n",
    "text_labels = { 0:'Airplane',\n",
    "            1:'Automobile', \n",
    "            2:'Bird', \n",
    "            3:'Cat', \n",
    "            4:'Deer', \n",
    "            5:'Dog', \n",
    "            6:'Frog', \n",
    "            7:'Horse', \n",
    "            8:'Ship', \n",
    "            9:'Truck'}"
   ]
  },
  {
   "cell_type": "code",
   "execution_count": 37,
   "metadata": {
    "colab": {
     "background_save": true
    },
    "id": "P-HmuY39fww-",
    "scrolled": false
   },
   "outputs": [
    {
     "data": {
      "image/png": "[encoded data removed]",
      "text/plain": [
       "<Figure size 1600x1200 with 2 Axes>"
      ]
     },
     "metadata": {},
     "output_type": "display_data"
    }
   ],
   "source": [
    "keys, values = zip(*text_labels.items())\n",
    "df_cm = pd.DataFrame(cf, index = values,  columns = values)\n",
    "plt.figure(figsize = (16,12))\n",
    "sns.heatmap(df_cm, annot=True, fmt='g')\n",
    "plt.show()"
   ]
  },
  {
   "cell_type": "code",
   "execution_count": 32,
   "metadata": {
    "colab": {
     "background_save": true
    },
    "id": "e7wDlR8Ffww_"
   },
   "outputs": [
    {
     "name": "stdout",
     "output_type": "stream",
     "text": [
      "              precision    recall  f1-score   support\n",
      "\n",
      "    Airplane       0.79      0.79      0.79      1000\n",
      "  Automobile       0.88      0.87      0.88      1000\n",
      "        Bird       0.70      0.71      0.71      1000\n",
      "         Cat       0.64      0.61      0.62      1000\n",
      "        Deer       0.76      0.75      0.75      1000\n",
      "         Dog       0.73      0.66      0.69      1000\n",
      "        Frog       0.80      0.87      0.83      1000\n",
      "       Horse       0.84      0.81      0.83      1000\n",
      "        Ship       0.83      0.88      0.86      1000\n",
      "       Truck       0.83      0.85      0.84      1000\n",
      "\n",
      "    accuracy                           0.78     10000\n",
      "   macro avg       0.78      0.78      0.78     10000\n",
      "weighted avg       0.78      0.78      0.78     10000\n",
      "\n"
     ]
    }
   ],
   "source": [
    "print(classification_report(y_test, y_pred, labels=keys, target_names=values))"
   ]
  },
  {
   "cell_type": "code",
   "execution_count": null,
   "metadata": {},
   "outputs": [],
   "source": []
  }
 ],
 "metadata": {
  "colab": {
   "collapsed_sections": [],
   "name": "AlexNet_CIFAR-10.ipynb",
   "provenance": [
    {
     "file_id": "1juRbpYpaKeXsGN8dhyxkU85VdnVFG3vN",
     "timestamp": 1645213589413
    }
   ],
   "version": ""
  },
  "kernelspec": {
   "display_name": "Python 3 (ipykernel)",
   "language": "python",
   "name": "python3"
  },
  "language_info": {
   "codemirror_mode": {
    "name": "ipython",
    "version": 3
   },
   "file_extension": ".py",
   "mimetype": "text/x-python",
   "name": "python",
   "nbconvert_exporter": "python",
   "pygments_lexer": "ipython3",
   "version": "3.9.7"
  }
 },
 "nbformat": 4,
 "nbformat_minor": 1
}
