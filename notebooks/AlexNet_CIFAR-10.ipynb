{
 "cells": [
  {
   "cell_type": "markdown",
   "metadata": {
    "id": "2Is9TW6Qu7_S"
   },
   "source": [
    "# Training AlexNet on CIFAR-10 dataset"
   ]
  },
  {
   "cell_type": "markdown",
   "metadata": {
    "id": "j4BgDebZvCOZ"
   },
   "source": [
    "We built the [AlexNet](https://proceedings.neurips.cc/paper/2012/file/c399862d3b9d6b76c8436e924a68c45b-Paper.pdf) model based on [this](https://towardsdatascience.com/implementing-alexnet-cnn-architecture-using-tensorflow-2-0-and-keras-2113e090ad98) tutorial (code available [here](https://github.com/RichmondAlake/tensorflow_2_tutorials/blob/master/015_alexnet.ipynb))."
   ]
  },
  {
   "cell_type": "code",
   "execution_count": 1,
   "metadata": {
    "executionInfo": {
     "elapsed": 4641,
     "status": "ok",
     "timestamp": 1645215889605,
     "user": {
      "displayName": "Samo Kolter",
      "photoUrl": "https://lh3.googleusercontent.com/a-/AOh14Gil4Kv_6LvpplaB_-McBruMM-gDeC02PIpPptE6fw=s64",
      "userId": "18136484303365185953"
     },
     "user_tz": -60
    },
    "id": "XmcRFT4OVnyZ",
    "scrolled": true
   },
   "outputs": [],
   "source": [
    "import tensorflow as tf\n",
    "from tensorflow import keras\n",
    "import numpy as np\n",
    "import matplotlib.pyplot as plt\n",
    "import os\n",
    "import time\n",
    "import seaborn as sns\n",
    "from sklearn.metrics import accuracy_score, confusion_matrix, classification_report\n",
    "import pandas as pd\n",
    "from datetime import datetime"
   ]
  },
  {
   "cell_type": "markdown",
   "metadata": {},
   "source": [
    "The following code cell below sets a fitting subdirectory for any logfiles created. Furthermore, it allows us to import our helper scripts and store the fit results independent of whether this notebook is executed in a locally cloned repository or in Google Colab (if we are in Colab, things get a bit more complicated unfortunately):"
   ]
  },
  {
   "cell_type": "code",
   "execution_count": 2,
   "metadata": {},
   "outputs": [
    {
     "name": "stdout",
     "output_type": "stream",
     "text": [
      "Notebook running locally\n"
     ]
    }
   ],
   "source": [
    "dataset_name = 'CIFAR-10'\n",
    "classifier_name = 'AlexNet'\n",
    "\n",
    "running_in_colab = 'google.colab' in str(get_ipython())\n",
    "if running_in_colab:\n",
    "  # unfortunately, we cannot import our helper scripts directly on Google Colab as other files from our repo are not accessible\n",
    "  # we have to clone our GitHub repo to fetch the helper scripts and add the script folder of cloned repo to the syspath\n",
    "\n",
    "  print('Notebook running on Google Colab')\n",
    "  repo_path = './ml-ex3'\n",
    "  repo_git_url = 'https://github.com/Sejmou/ml-ex3.git'\n",
    "\n",
    "  import subprocess\n",
    "  import sys\n",
    "\n",
    "  def install(package):#https://stackoverflow.com/a/50255019/13727176\n",
    "    print(f'Installing {package} using pip')\n",
    "    subprocess.check_call([sys.executable, \"-m\", \"pip\", \"install\", package])\n",
    "  \n",
    "  if 'git' not in sys.modules:\n",
    "    install('GitPython')\n",
    "  \n",
    "  from git import Repo\n",
    "\n",
    "  if os.path.exists(repo_path): # already cloned -> pull latest changes\n",
    "    print('pulling from our git repo to get latest version of helper scripts')\n",
    "    repo = Repo(repo_path)\n",
    "    o = repo.remotes.origin\n",
    "    o.pull()\n",
    "    print('pulled successfully')\n",
    "    sys.path.append(f'{repo_path}/notebooks')\n",
    "    print('appended helper_scripts module to sys.path')\n",
    "    import importlib\n",
    "    import helper_scripts\n",
    "    importlib.reload(helper_scripts)\n",
    "    print('reloaded helper_scripts module')\n",
    "  else:\n",
    "    print('cloning our git repo to get helper scripts')\n",
    "    Repo.clone_from(repo_git_url, repo_path)\n",
    "    print('cloned successfully')\n",
    "    sys.path.append(f'{repo_path}/notebooks')\n",
    "    print('appended helper_scripts module to sys.path')\n",
    "\n",
    "  from google.colab import drive\n",
    "  drive.mount('/content/drive')\n",
    "  \n",
    "  drive_log_dir = '/content/drive/MyDrive/ml-ex3'# main folder where all logs and stuff are stored\n",
    "  root_log_dir = f'{drive_log_dir}/{dataset_name}/{classifier_name}/{datetime.now().strftime(\"%Y-%m-%d_%H_%M_%S\")}'#pick drive folder that suits you\n",
    "  dataset_path = f'./data/{dataset_name}'\n",
    "else:\n",
    "  print('Notebook running locally') # in such cases there's not a lot we have to do fortunately :)\n",
    "  root_log_dir = f'../model_fit_results/{dataset_name}/{classifier_name}/{datetime.now().strftime(\"%Y-%m-%d_%H_%M_%S\")}'\n",
    "  dataset_path = f'../data/{dataset_name}'\n",
    "  "
   ]
  },
  {
   "cell_type": "markdown",
   "metadata": {
    "id": "BEm_SBsTZPEx"
   },
   "source": [
    "## Load data"
   ]
  },
  {
   "cell_type": "markdown",
   "metadata": {},
   "source": [
    "For loading the data, we can use our custom `CIFAR10Loader` class."
   ]
  },
  {
   "cell_type": "code",
   "execution_count": 3,
   "metadata": {
    "executionInfo": {
     "elapsed": 306,
     "status": "ok",
     "timestamp": 1645216113834,
     "user": {
      "displayName": "Samo Kolter",
      "photoUrl": "https://lh3.googleusercontent.com/a-/AOh14Gil4Kv_6LvpplaB_-McBruMM-gDeC02PIpPptE6fw=s64",
      "userId": "18136484303365185953"
     },
     "user_tz": -60
    },
    "id": "QjaTfLtfyBvm"
   },
   "outputs": [],
   "source": [
    "from helper_scripts.data_loaders import CIFAR10Loader"
   ]
  },
  {
   "cell_type": "code",
   "execution_count": 4,
   "metadata": {
    "colab": {
     "base_uri": "https://localhost:8080/"
    },
    "executionInfo": {
     "elapsed": 12375,
     "status": "ok",
     "timestamp": 1645216129892,
     "user": {
      "displayName": "Samo Kolter",
      "photoUrl": "https://lh3.googleusercontent.com/a-/AOh14Gil4Kv_6LvpplaB_-McBruMM-gDeC02PIpPptE6fw=s64",
      "userId": "18136484303365185953"
     },
     "user_tz": -60
    },
    "id": "4rczoC_1BhF2",
    "outputId": "057487c1-e17d-482c-b667-644224737545"
   },
   "outputs": [
    {
     "name": "stdout",
     "output_type": "stream",
     "text": [
      "CIFAR-10 dataset already downloaded, loading files from memory\n",
      "loading training images and labels\n",
      "loading test images and labels\n",
      "done\n",
      "processing training images\n",
      "processing test images\n",
      "done processing, creating train/val/test split\n"
     ]
    }
   ],
   "source": [
    "data_loader = CIFAR10Loader(dataset_path)\n",
    "X_train, X_val, X_test, y_train, y_val, y_test = data_loader.get_processed_imgs(target_width = 32, target_height = 32)# cannot resize to 257 directly, our implementation is too RAM-hungry"
   ]
  },
  {
   "cell_type": "markdown",
   "metadata": {},
   "source": [
    "Get a quick overview of the loaded data:"
   ]
  },
  {
   "cell_type": "code",
   "execution_count": 5,
   "metadata": {},
   "outputs": [
    {
     "name": "stdout",
     "output_type": "stream",
     "text": [
      "\n",
      "--- Checking loaded CIFAR-10 data ---\n",
      "Data types\n",
      "X_train: <class 'numpy.ndarray'>\n",
      "X_val: <class 'numpy.ndarray'>\n",
      "X_test: <class 'numpy.ndarray'>\n",
      "y_train: <class 'numpy.ndarray'>\n",
      "y_val: <class 'numpy.ndarray'>\n",
      "y_test: <class 'numpy.ndarray'>\n",
      "\n",
      "Data shapes\n",
      "X_train: (35000, 32, 32, 3)\n",
      "X_val: (15000, 32, 32, 3)\n",
      "X_test: (10000, 32, 32, 3)\n",
      "y_train: (35000,)\n",
      "y_val: (15000,)\n",
      "y_test: (10000,)\n",
      "\n",
      "Image stats:\n",
      "shape: (60000, 32, 32, 3)\n",
      "Max value across all images and channels: 1.0\n",
      "Min value across all images and channels: 0.0\n",
      "Split sizes:\n",
      " train size: 35000\n",
      "validation size: 15000\n",
      "test size: 10000\n",
      "Total dataset size: 60000\n",
      "\n",
      "Train/Val/Test ratio: 0.58/0.25/0.17\n",
      "Train/Val ratio:0.7/0.3\n",
      "(Train+Val)/Test ratio:0.83/0.17\n"
     ]
    }
   ],
   "source": [
    "from helper_scripts.data_exploration import print_dataset_summary, show_img\n",
    "\n",
    "print_dataset_summary(data=(X_train, X_val, X_test, y_train, y_val, y_test), dataset_name=dataset_name)"
   ]
  },
  {
   "cell_type": "markdown",
   "metadata": {},
   "source": [
    "Let's look at an example image for each split:"
   ]
  },
  {
   "cell_type": "code",
   "execution_count": 6,
   "metadata": {},
   "outputs": [
    {
     "data": {
      "image/png": "[encoded data removed]",
      "text/plain": [
       "<Figure size 640x480 with 3 Axes>"
      ]
     },
     "metadata": {},
     "output_type": "display_data"
    }
   ],
   "source": [
    "fig, ax = plt.subplots(1, 3)\n",
    "\n",
    "for i, split in enumerate([X_train, X_val, X_test]):\n",
    "  show_img(split[0], ax=ax[i], val_range_min=0, val_range_max=1)\n",
    "  \n",
    "plt.show()"
   ]
  },
  {
   "cell_type": "markdown",
   "metadata": {},
   "source": [
    "How many classes are there?"
   ]
  },
  {
   "cell_type": "code",
   "execution_count": 7,
   "metadata": {
    "executionInfo": {
     "elapsed": 15,
     "status": "ok",
     "timestamp": 1645216129894,
     "user": {
      "displayName": "Samo Kolter",
      "photoUrl": "https://lh3.googleusercontent.com/a-/AOh14Gil4Kv_6LvpplaB_-McBruMM-gDeC02PIpPptE6fw=s64",
      "userId": "18136484303365185953"
     },
     "user_tz": -60
    },
    "id": "hSUFeXy4hfUw"
   },
   "outputs": [
    {
     "data": {
      "text/plain": [
       "10"
      ]
     },
     "execution_count": 7,
     "metadata": {},
     "output_type": "execute_result"
    }
   ],
   "source": [
    "NUM_CLASSES = data_loader.number_of_classes\n",
    "NUM_CLASSES"
   ]
  },
  {
   "cell_type": "markdown",
   "metadata": {},
   "source": [
    "What are the class labels?"
   ]
  },
  {
   "cell_type": "code",
   "execution_count": 8,
   "metadata": {},
   "outputs": [
    {
     "data": {
      "text/plain": [
       "{0: 'Airplane',\n",
       " 1: 'Automobile',\n",
       " 2: 'Bird',\n",
       " 3: 'Cat',\n",
       " 4: 'Deer',\n",
       " 5: 'Dog',\n",
       " 6: 'Frog',\n",
       " 7: 'Horse',\n",
       " 8: 'Ship',\n",
       " 9: 'Truck'}"
      ]
     },
     "execution_count": 8,
     "metadata": {},
     "output_type": "execute_result"
    }
   ],
   "source": [
    "labels = data_loader.text_label_dict\n",
    "labels"
   ]
  },
  {
   "cell_type": "markdown",
   "metadata": {},
   "source": [
    "## Additional Data Preprocessing for AlexNet"
   ]
  },
  {
   "cell_type": "markdown",
   "metadata": {},
   "source": [
    "To pass the images to AlexNet, we need to resize them to 227x227. As we have issues with the RAM-efficiency of our own image resize method, we didn't use the target size parameters of our dataloader and use TensorFlow instead:"
   ]
  },
  {
   "cell_type": "code",
   "execution_count": 9,
   "metadata": {
    "executionInfo": {
     "elapsed": 4,
     "status": "ok",
     "timestamp": 1645215942150,
     "user": {
      "displayName": "Samo Kolter",
      "photoUrl": "https://lh3.googleusercontent.com/a-/AOh14Gil4Kv_6LvpplaB_-McBruMM-gDeC02PIpPptE6fw=s64",
      "userId": "18136484303365185953"
     },
     "user_tz": -60
    },
    "id": "RDoIl4lHgqoC"
   },
   "outputs": [],
   "source": [
    "IMG_WIDTH = IMG_HEIGHT = 257 # AlexNet expects images of size 257 x 257 as input"
   ]
  },
  {
   "cell_type": "code",
   "execution_count": 10,
   "metadata": {
    "executionInfo": {
     "elapsed": 15,
     "status": "ok",
     "timestamp": 1645216129894,
     "user": {
      "displayName": "Samo Kolter",
      "photoUrl": "https://lh3.googleusercontent.com/a-/AOh14Gil4Kv_6LvpplaB_-McBruMM-gDeC02PIpPptE6fw=s64",
      "userId": "18136484303365185953"
     },
     "user_tz": -60
    },
    "id": "tAqn_ugZkZbs"
   },
   "outputs": [],
   "source": [
    "def resize_images(image, label):\n",
    "    image = tf.image.resize(image, (IMG_WIDTH, IMG_HEIGHT))\n",
    "    return image, label"
   ]
  },
  {
   "cell_type": "code",
   "execution_count": 11,
   "metadata": {
    "colab": {
     "base_uri": "https://localhost:8080/"
    },
    "executionInfo": {
     "elapsed": 57089,
     "status": "ok",
     "timestamp": 1645216186969,
     "user": {
      "displayName": "Samo Kolter",
      "photoUrl": "https://lh3.googleusercontent.com/a-/AOh14Gil4Kv_6LvpplaB_-McBruMM-gDeC02PIpPptE6fw=s64",
      "userId": "18136484303365185953"
     },
     "user_tz": -60
    },
    "id": "thhDW1KpVnyd",
    "outputId": "787db3fa-cfd1-42b4-8e21-8941fa42eda4"
   },
   "outputs": [
    {
     "data": {
      "text/plain": [
       "10"
      ]
     },
     "execution_count": 11,
     "metadata": {},
     "output_type": "execute_result"
    }
   ],
   "source": [
    "train_ds = tf.data.Dataset.from_tensor_slices((X_train, y_train))\n",
    "test_ds = tf.data.Dataset.from_tensor_slices((X_test, y_test))\n",
    "validation_ds = tf.data.Dataset.from_tensor_slices((X_val, y_val))\n",
    "\n",
    "import gc\n",
    "# make sure we get rid of all unused memory; we need every little piece of RAM!\n",
    "del X_train\n",
    "del y_train\n",
    "del X_test\n",
    "del y_test\n",
    "del X_val\n",
    "del y_val\n",
    "gc.collect()"
   ]
  },
  {
   "cell_type": "code",
   "execution_count": 12,
   "metadata": {
    "executionInfo": {
     "elapsed": 10211,
     "status": "ok",
     "timestamp": 1645216197167,
     "user": {
      "displayName": "Samo Kolter",
      "photoUrl": "https://lh3.googleusercontent.com/a-/AOh14Gil4Kv_6LvpplaB_-McBruMM-gDeC02PIpPptE6fw=s64",
      "userId": "18136484303365185953"
     },
     "user_tz": -60
    },
    "id": "rXhwDpPCVnyg"
   },
   "outputs": [],
   "source": [
    "train_ds_size = len(list(train_ds))\n",
    "train_ds_size = len(list(test_ds))\n",
    "validation_ds_size = len(list(validation_ds))"
   ]
  },
  {
   "cell_type": "markdown",
   "metadata": {},
   "source": [
    "Now, let's resize our images and put them into batches:"
   ]
  },
  {
   "cell_type": "code",
   "execution_count": 13,
   "metadata": {
    "executionInfo": {
     "elapsed": 15,
     "status": "ok",
     "timestamp": 1645216197168,
     "user": {
      "displayName": "Samo Kolter",
      "photoUrl": "https://lh3.googleusercontent.com/a-/AOh14Gil4Kv_6LvpplaB_-McBruMM-gDeC02PIpPptE6fw=s64",
      "userId": "18136484303365185953"
     },
     "user_tz": -60
    },
    "id": "e5Xk1tmIVnyh"
   },
   "outputs": [],
   "source": [
    "train_ds = (train_ds\n",
    "                  .map(resize_images)\n",
    "                  .batch(batch_size=8, drop_remainder=True))\n",
    "\n",
    "test_ds = (test_ds\n",
    "                  .map(resize_images)\n",
    "                  .batch(batch_size=8, drop_remainder=True))\n",
    "\n",
    "validation_ds = (validation_ds\n",
    "                  .map(resize_images)\n",
    "                  .batch(batch_size=8, drop_remainder=True))"
   ]
  },
  {
   "cell_type": "markdown",
   "metadata": {
    "id": "ReQSvgUFRJrM"
   },
   "source": [
    "## Defining The Model"
   ]
  },
  {
   "cell_type": "code",
   "execution_count": 14,
   "metadata": {
    "executionInfo": {
     "elapsed": 15,
     "status": "ok",
     "timestamp": 1645216197169,
     "user": {
      "displayName": "Samo Kolter",
      "photoUrl": "https://lh3.googleusercontent.com/a-/AOh14Gil4Kv_6LvpplaB_-McBruMM-gDeC02PIpPptE6fw=s64",
      "userId": "18136484303365185953"
     },
     "user_tz": -60
    },
    "id": "7ODOmaGEVnyj"
   },
   "outputs": [],
   "source": [
    "def create_AlexNet():\n",
    "  return keras.models.Sequential([\n",
    "    keras.layers.Conv2D(filters=96, kernel_size=(11,11), strides=(4,4), activation='relu', input_shape=(IMG_WIDTH,IMG_HEIGHT,3)),\n",
    "    keras.layers.BatchNormalization(),\n",
    "    keras.layers.MaxPool2D(pool_size=(3,3), strides=(2,2)),\n",
    "    keras.layers.Conv2D(filters=256, kernel_size=(5,5), strides=(1,1), activation='relu', padding=\"same\"),\n",
    "    keras.layers.BatchNormalization(),\n",
    "    keras.layers.MaxPool2D(pool_size=(3,3), strides=(2,2)),\n",
    "    keras.layers.Conv2D(filters=384, kernel_size=(3,3), strides=(1,1), activation='relu', padding=\"same\"),\n",
    "    keras.layers.BatchNormalization(),\n",
    "    keras.layers.Conv2D(filters=384, kernel_size=(1,1), strides=(1,1), activation='relu', padding=\"same\"),\n",
    "    keras.layers.BatchNormalization(),\n",
    "    keras.layers.Conv2D(filters=256, kernel_size=(1,1), strides=(1,1), activation='relu', padding=\"same\"),\n",
    "    keras.layers.BatchNormalization(),\n",
    "    keras.layers.MaxPool2D(pool_size=(3,3), strides=(2,2)),\n",
    "    keras.layers.Flatten(),\n",
    "    keras.layers.Dense(4096, activation='relu'),\n",
    "    keras.layers.Dropout(0.5),\n",
    "    keras.layers.Dense(4096, activation='relu'),\n",
    "    keras.layers.Dropout(0.5),\n",
    "    keras.layers.Dense(NUM_CLASSES, activation='softmax')\n",
    "  ])"
   ]
  },
  {
   "cell_type": "code",
   "execution_count": 15,
   "metadata": {
    "executionInfo": {
     "elapsed": 920,
     "status": "ok",
     "timestamp": 1645216198074,
     "user": {
      "displayName": "Samo Kolter",
      "photoUrl": "https://lh3.googleusercontent.com/a-/AOh14Gil4Kv_6LvpplaB_-McBruMM-gDeC02PIpPptE6fw=s64",
      "userId": "18136484303365185953"
     },
     "user_tz": -60
    },
    "id": "Ihc25Zu_Y2ZC"
   },
   "outputs": [],
   "source": [
    "model = create_AlexNet()"
   ]
  },
  {
   "cell_type": "code",
   "execution_count": 17,
   "metadata": {
    "colab": {
     "base_uri": "https://localhost:8080/"
    },
    "executionInfo": {
     "elapsed": 49,
     "status": "ok",
     "timestamp": 1645216198075,
     "user": {
      "displayName": "Samo Kolter",
      "photoUrl": "https://lh3.googleusercontent.com/a-/AOh14Gil4Kv_6LvpplaB_-McBruMM-gDeC02PIpPptE6fw=s64",
      "userId": "18136484303365185953"
     },
     "user_tz": -60
    },
    "id": "5PH4UuhVY11A",
    "outputId": "bf4ffdd4-b70d-4d84-9504-49c281747099"
   },
   "outputs": [
    {
     "name": "stdout",
     "output_type": "stream",
     "text": [
      "Model: \"sequential\"\n",
      "_________________________________________________________________\n",
      " Layer (type)                Output Shape              Param #   \n",
      "=================================================================\n",
      " conv2d (Conv2D)             (None, 62, 62, 96)        34944     \n",
      "                                                                 \n",
      " batch_normalization (BatchN  (None, 62, 62, 96)       384       \n",
      " ormalization)                                                   \n",
      "                                                                 \n",
      " max_pooling2d (MaxPooling2D  (None, 30, 30, 96)       0         \n",
      " )                                                               \n",
      "                                                                 \n",
      " conv2d_1 (Conv2D)           (None, 30, 30, 256)       614656    \n",
      "                                                                 \n",
      " batch_normalization_1 (Batc  (None, 30, 30, 256)      1024      \n",
      " hNormalization)                                                 \n",
      "                                                                 \n",
      " max_pooling2d_1 (MaxPooling  (None, 14, 14, 256)      0         \n",
      " 2D)                                                             \n",
      "                                                                 \n",
      " conv2d_2 (Conv2D)           (None, 14, 14, 384)       885120    \n",
      "                                                                 \n",
      " batch_normalization_2 (Batc  (None, 14, 14, 384)      1536      \n",
      " hNormalization)                                                 \n",
      "                                                                 \n",
      " conv2d_3 (Conv2D)           (None, 14, 14, 384)       147840    \n",
      "                                                                 \n",
      " batch_normalization_3 (Batc  (None, 14, 14, 384)      1536      \n",
      " hNormalization)                                                 \n",
      "                                                                 \n",
      " conv2d_4 (Conv2D)           (None, 14, 14, 256)       98560     \n",
      "                                                                 \n",
      " batch_normalization_4 (Batc  (None, 14, 14, 256)      1024      \n",
      " hNormalization)                                                 \n",
      "                                                                 \n",
      " max_pooling2d_2 (MaxPooling  (None, 6, 6, 256)        0         \n",
      " 2D)                                                             \n",
      "                                                                 \n",
      " flatten (Flatten)           (None, 9216)              0         \n",
      "                                                                 \n",
      " dense (Dense)               (None, 4096)              37752832  \n",
      "                                                                 \n",
      " dropout (Dropout)           (None, 4096)              0         \n",
      "                                                                 \n",
      " dense_1 (Dense)             (None, 4096)              16781312  \n",
      "                                                                 \n",
      " dropout_1 (Dropout)         (None, 4096)              0         \n",
      "                                                                 \n",
      " dense_2 (Dense)             (None, 10)                40970     \n",
      "                                                                 \n",
      "=================================================================\n",
      "Total params: 56,361,738\n",
      "Trainable params: 56,358,986\n",
      "Non-trainable params: 2,752\n",
      "_________________________________________________________________\n"
     ]
    }
   ],
   "source": [
    "model.compile(loss='sparse_categorical_crossentropy', optimizer=tf.optimizers.SGD(learning_rate=0.001), metrics=['accuracy'])\n",
    "model.summary()"
   ]
  },
  {
   "cell_type": "markdown",
   "metadata": {
    "id": "LuS5x6M5RJrP"
   },
   "source": [
    "### Adding callbacks"
   ]
  },
  {
   "cell_type": "markdown",
   "metadata": {},
   "source": [
    "We will use three callbacks: one for storing the best model weights, one custom callback for measuring the fit time, and one for logging the training process to TensorBoard."
   ]
  },
  {
   "cell_type": "code",
   "execution_count": 18,
   "metadata": {
    "executionInfo": {
     "elapsed": 8,
     "status": "ok",
     "timestamp": 1645216198075,
     "user": {
      "displayName": "Samo Kolter",
      "photoUrl": "https://lh3.googleusercontent.com/a-/AOh14Gil4Kv_6LvpplaB_-McBruMM-gDeC02PIpPptE6fw=s64",
      "userId": "18136484303365185953"
     },
     "user_tz": -60
    },
    "id": "m-Ap6omfVnyi"
   },
   "outputs": [],
   "source": [
    "from keras.callbacks import ModelCheckpoint\n",
    "\n",
    "log_dir = os.path.join(root_log_dir, 'no_augmentation')\n",
    "\n",
    "checkpoint_path = os.path.join(log_dir, 'best_val_acc_weights.h5')\n",
    "checkpoint_cb = ModelCheckpoint(filepath=checkpoint_path,\n",
    "                             monitor='val_accuracy',\n",
    "                             verbose=1,\n",
    "                             save_best_only=True)"
   ]
  },
  {
   "cell_type": "code",
   "execution_count": 20,
   "metadata": {
    "executionInfo": {
     "elapsed": 411,
     "status": "ok",
     "timestamp": 1645216198479,
     "user": {
      "displayName": "Samo Kolter",
      "photoUrl": "https://lh3.googleusercontent.com/a-/AOh14Gil4Kv_6LvpplaB_-McBruMM-gDeC02PIpPptE6fw=s64",
      "userId": "18136484303365185953"
     },
     "user_tz": -60
    },
    "id": "a9-AMvtkalFY"
   },
   "outputs": [],
   "source": [
    "from helper_scripts.deep_learning import TimeHistory\n",
    "time_cb = TimeHistory()"
   ]
  },
  {
   "cell_type": "code",
   "execution_count": 21,
   "metadata": {},
   "outputs": [],
   "source": [
    "from keras.callbacks import TensorBoard\n",
    "\n",
    "tensorboard_cb = TensorBoard(os.path.join(log_dir, 'tensorboard'))"
   ]
  },
  {
   "cell_type": "markdown",
   "metadata": {},
   "source": [
    "## Fitting the Model"
   ]
  },
  {
   "cell_type": "code",
   "execution_count": 22,
   "metadata": {
    "colab": {
     "background_save": true,
     "base_uri": "https://localhost:8080/"
    },
    "id": "3yXbqU6dVnyj"
   },
   "outputs": [
    {
     "name": "stdout",
     "output_type": "stream",
     "text": [
      "Epoch 1/50\n",
      "   5/4375 [..............................] - ETA: 2:04 - loss: 4.7503 - accuracy: 0.1500 WARNING:tensorflow:Callback method `on_train_batch_end` is slow compared to the batch time (batch time: 0.0056s vs `on_train_batch_end` time: 0.0217s). Check your callbacks.\n",
      "4375/4375 [==============================] - ETA: 0s - loss: 1.9809 - accuracy: 0.3485\n",
      "Epoch 1: val_accuracy improved from -inf to 0.48367, saving model to ../model_fit_results/CIFAR-10/AlexNet/2022-02-21_12_48_22/no_augmentation/best_val_acc_weights.h5\n",
      "4375/4375 [==============================] - 148s 33ms/step - loss: 1.9809 - accuracy: 0.3485 - val_loss: 1.4260 - val_accuracy: 0.4837\n",
      "Epoch 2/50\n",
      "4375/4375 [==============================] - ETA: 0s - loss: 1.5194 - accuracy: 0.4543\n",
      "Epoch 2: val_accuracy improved from 0.48367 to 0.53447, saving model to ../model_fit_results/CIFAR-10/AlexNet/2022-02-21_12_48_22/no_augmentation/best_val_acc_weights.h5\n",
      "4375/4375 [==============================] - 144s 33ms/step - loss: 1.5194 - accuracy: 0.4543 - val_loss: 1.3013 - val_accuracy: 0.5345\n",
      "Epoch 3/50\n",
      "4375/4375 [==============================] - ETA: 0s - loss: 1.3640 - accuracy: 0.5131\n",
      "Epoch 3: val_accuracy improved from 0.53447 to 0.57440, saving model to ../model_fit_results/CIFAR-10/AlexNet/2022-02-21_12_48_22/no_augmentation/best_val_acc_weights.h5\n",
      "4375/4375 [==============================] - 143s 33ms/step - loss: 1.3640 - accuracy: 0.5131 - val_loss: 1.2048 - val_accuracy: 0.5744\n",
      "Epoch 4/50\n",
      "4375/4375 [==============================] - ETA: 0s - loss: 1.2443 - accuracy: 0.5577\n",
      "Epoch 4: val_accuracy did not improve from 0.57440\n",
      "4375/4375 [==============================] - 142s 33ms/step - loss: 1.2443 - accuracy: 0.5577 - val_loss: 1.3088 - val_accuracy: 0.5378\n",
      "Epoch 5/50\n",
      "4375/4375 [==============================] - ETA: 0s - loss: 1.1336 - accuracy: 0.6007\n",
      "Epoch 5: val_accuracy improved from 0.57440 to 0.61833, saving model to ../model_fit_results/CIFAR-10/AlexNet/2022-02-21_12_48_22/no_augmentation/best_val_acc_weights.h5\n",
      "4375/4375 [==============================] - 143s 33ms/step - loss: 1.1336 - accuracy: 0.6007 - val_loss: 1.0749 - val_accuracy: 0.6183\n",
      "Epoch 6/50\n",
      "4375/4375 [==============================] - ETA: 0s - loss: 1.0321 - accuracy: 0.6358\n",
      "Epoch 6: val_accuracy improved from 0.61833 to 0.63573, saving model to ../model_fit_results/CIFAR-10/AlexNet/2022-02-21_12_48_22/no_augmentation/best_val_acc_weights.h5\n",
      "4375/4375 [==============================] - 143s 33ms/step - loss: 1.0321 - accuracy: 0.6358 - val_loss: 1.0353 - val_accuracy: 0.6357\n",
      "Epoch 7/50\n",
      "4375/4375 [==============================] - ETA: 0s - loss: 0.9565 - accuracy: 0.6595\n",
      "Epoch 7: val_accuracy improved from 0.63573 to 0.67500, saving model to ../model_fit_results/CIFAR-10/AlexNet/2022-02-21_12_48_22/no_augmentation/best_val_acc_weights.h5\n",
      "4375/4375 [==============================] - 143s 33ms/step - loss: 0.9565 - accuracy: 0.6595 - val_loss: 0.9219 - val_accuracy: 0.6750\n",
      "Epoch 8/50\n",
      "4375/4375 [==============================] - ETA: 0s - loss: 0.8597 - accuracy: 0.6955\n",
      "Epoch 8: val_accuracy improved from 0.67500 to 0.67893, saving model to ../model_fit_results/CIFAR-10/AlexNet/2022-02-21_12_48_22/no_augmentation/best_val_acc_weights.h5\n",
      "4375/4375 [==============================] - 143s 33ms/step - loss: 0.8597 - accuracy: 0.6955 - val_loss: 0.9232 - val_accuracy: 0.6789\n",
      "Epoch 9/50\n",
      "4375/4375 [==============================] - ETA: 0s - loss: 0.7937 - accuracy: 0.7207\n",
      "Epoch 9: val_accuracy improved from 0.67893 to 0.69187, saving model to ../model_fit_results/CIFAR-10/AlexNet/2022-02-21_12_48_22/no_augmentation/best_val_acc_weights.h5\n",
      "4375/4375 [==============================] - 143s 33ms/step - loss: 0.7937 - accuracy: 0.7207 - val_loss: 0.8785 - val_accuracy: 0.6919\n",
      "Epoch 10/50\n",
      "4375/4375 [==============================] - ETA: 0s - loss: 0.7205 - accuracy: 0.7467\n",
      "Epoch 10: val_accuracy did not improve from 0.69187\n",
      "4375/4375 [==============================] - 142s 33ms/step - loss: 0.7205 - accuracy: 0.7467 - val_loss: 0.9036 - val_accuracy: 0.6884\n",
      "Epoch 11/50\n",
      "4375/4375 [==============================] - ETA: 0s - loss: 0.6528 - accuracy: 0.7730\n",
      "Epoch 11: val_accuracy improved from 0.69187 to 0.69900, saving model to ../model_fit_results/CIFAR-10/AlexNet/2022-02-21_12_48_22/no_augmentation/best_val_acc_weights.h5\n",
      "4375/4375 [==============================] - 144s 33ms/step - loss: 0.6528 - accuracy: 0.7730 - val_loss: 0.8791 - val_accuracy: 0.6990\n",
      "Epoch 12/50\n",
      "4375/4375 [==============================] - ETA: 0s - loss: 0.5874 - accuracy: 0.7937\n",
      "Epoch 12: val_accuracy improved from 0.69900 to 0.71540, saving model to ../model_fit_results/CIFAR-10/AlexNet/2022-02-21_12_48_22/no_augmentation/best_val_acc_weights.h5\n",
      "4375/4375 [==============================] - 145s 33ms/step - loss: 0.5874 - accuracy: 0.7937 - val_loss: 0.8305 - val_accuracy: 0.7154\n",
      "Epoch 13/50\n",
      "4375/4375 [==============================] - ETA: 0s - loss: 0.5327 - accuracy: 0.8125\n",
      "Epoch 13: val_accuracy improved from 0.71540 to 0.72693, saving model to ../model_fit_results/CIFAR-10/AlexNet/2022-02-21_12_48_22/no_augmentation/best_val_acc_weights.h5\n",
      "4375/4375 [==============================] - 144s 33ms/step - loss: 0.5327 - accuracy: 0.8125 - val_loss: 0.8043 - val_accuracy: 0.7269\n",
      "Epoch 14/50\n",
      "4375/4375 [==============================] - ETA: 0s - loss: 0.4715 - accuracy: 0.8352\n",
      "Epoch 14: val_accuracy improved from 0.72693 to 0.73647, saving model to ../model_fit_results/CIFAR-10/AlexNet/2022-02-21_12_48_22/no_augmentation/best_val_acc_weights.h5\n",
      "4375/4375 [==============================] - 144s 33ms/step - loss: 0.4715 - accuracy: 0.8352 - val_loss: 0.7893 - val_accuracy: 0.7365\n",
      "Epoch 15/50\n",
      "4375/4375 [==============================] - ETA: 0s - loss: 0.4245 - accuracy: 0.8533\n",
      "Epoch 15: val_accuracy improved from 0.73647 to 0.74033, saving model to ../model_fit_results/CIFAR-10/AlexNet/2022-02-21_12_48_22/no_augmentation/best_val_acc_weights.h5\n",
      "4375/4375 [==============================] - 142s 32ms/step - loss: 0.4245 - accuracy: 0.8533 - val_loss: 0.7985 - val_accuracy: 0.7403\n",
      "Epoch 16/50\n",
      "4375/4375 [==============================] - ETA: 0s - loss: 0.3721 - accuracy: 0.8698\n",
      "Epoch 16: val_accuracy did not improve from 0.74033\n",
      "4375/4375 [==============================] - 140s 32ms/step - loss: 0.3721 - accuracy: 0.8698 - val_loss: 0.8315 - val_accuracy: 0.7367\n",
      "Epoch 17/50\n",
      "4375/4375 [==============================] - ETA: 0s - loss: 0.3248 - accuracy: 0.8885\n",
      "Epoch 17: val_accuracy improved from 0.74033 to 0.74313, saving model to ../model_fit_results/CIFAR-10/AlexNet/2022-02-21_12_48_22/no_augmentation/best_val_acc_weights.h5\n",
      "4375/4375 [==============================] - 141s 32ms/step - loss: 0.3248 - accuracy: 0.8885 - val_loss: 0.8479 - val_accuracy: 0.7431\n",
      "Epoch 18/50\n",
      "4375/4375 [==============================] - ETA: 0s - loss: 0.2849 - accuracy: 0.9009\n",
      "Epoch 18: val_accuracy improved from 0.74313 to 0.74693, saving model to ../model_fit_results/CIFAR-10/AlexNet/2022-02-21_12_48_22/no_augmentation/best_val_acc_weights.h5\n",
      "4375/4375 [==============================] - 144s 33ms/step - loss: 0.2849 - accuracy: 0.9009 - val_loss: 0.8367 - val_accuracy: 0.7469\n",
      "Epoch 19/50\n",
      "4375/4375 [==============================] - ETA: 0s - loss: 0.2446 - accuracy: 0.9153\n",
      "Epoch 19: val_accuracy improved from 0.74693 to 0.75240, saving model to ../model_fit_results/CIFAR-10/AlexNet/2022-02-21_12_48_22/no_augmentation/best_val_acc_weights.h5\n",
      "4375/4375 [==============================] - 144s 33ms/step - loss: 0.2446 - accuracy: 0.9153 - val_loss: 0.8549 - val_accuracy: 0.7524\n",
      "Epoch 20/50\n",
      "4375/4375 [==============================] - ETA: 0s - loss: 0.2204 - accuracy: 0.9232\n",
      "Epoch 20: val_accuracy did not improve from 0.75240\n",
      "4375/4375 [==============================] - 142s 33ms/step - loss: 0.2204 - accuracy: 0.9232 - val_loss: 0.8652 - val_accuracy: 0.7488\n",
      "Epoch 21/50\n",
      "4375/4375 [==============================] - ETA: 0s - loss: 0.1927 - accuracy: 0.9337\n",
      "Epoch 21: val_accuracy did not improve from 0.75240\n",
      "4375/4375 [==============================] - 140s 32ms/step - loss: 0.1927 - accuracy: 0.9337 - val_loss: 0.9096 - val_accuracy: 0.7506\n",
      "Epoch 22/50\n"
     ]
    },
    {
     "name": "stdout",
     "output_type": "stream",
     "text": [
      "4374/4375 [============================>.] - ETA: 0s - loss: 0.1691 - accuracy: 0.9425\n",
      "Epoch 22: val_accuracy improved from 0.75240 to 0.75993, saving model to ../model_fit_results/CIFAR-10/AlexNet/2022-02-21_12_48_22/no_augmentation/best_val_acc_weights.h5\n",
      "4375/4375 [==============================] - 142s 33ms/step - loss: 0.1691 - accuracy: 0.9425 - val_loss: 0.8653 - val_accuracy: 0.7599\n",
      "Epoch 23/50\n",
      "4375/4375 [==============================] - ETA: 0s - loss: 0.1473 - accuracy: 0.9510\n",
      "Epoch 23: val_accuracy did not improve from 0.75993\n",
      "4375/4375 [==============================] - 147s 34ms/step - loss: 0.1473 - accuracy: 0.9510 - val_loss: 0.9120 - val_accuracy: 0.7565\n",
      "Epoch 24/50\n",
      "4375/4375 [==============================] - ETA: 0s - loss: 0.1327 - accuracy: 0.9564\n",
      "Epoch 24: val_accuracy improved from 0.75993 to 0.76327, saving model to ../model_fit_results/CIFAR-10/AlexNet/2022-02-21_12_48_22/no_augmentation/best_val_acc_weights.h5\n",
      "4375/4375 [==============================] - 144s 33ms/step - loss: 0.1327 - accuracy: 0.9564 - val_loss: 0.8901 - val_accuracy: 0.7633\n",
      "Epoch 25/50\n",
      "4375/4375 [==============================] - ETA: 0s - loss: 0.1178 - accuracy: 0.9611\n",
      "Epoch 25: val_accuracy did not improve from 0.76327\n",
      "4375/4375 [==============================] - 141s 32ms/step - loss: 0.1178 - accuracy: 0.9611 - val_loss: 0.9883 - val_accuracy: 0.7527\n",
      "Epoch 26/50\n",
      "4375/4375 [==============================] - ETA: 0s - loss: 0.1050 - accuracy: 0.9664\n",
      "Epoch 26: val_accuracy did not improve from 0.76327\n",
      "4375/4375 [==============================] - 142s 33ms/step - loss: 0.1050 - accuracy: 0.9664 - val_loss: 0.9980 - val_accuracy: 0.7527\n",
      "Epoch 27/50\n",
      "4375/4375 [==============================] - ETA: 0s - loss: 0.0938 - accuracy: 0.9701\n",
      "Epoch 27: val_accuracy did not improve from 0.76327\n",
      "4375/4375 [==============================] - 141s 32ms/step - loss: 0.0938 - accuracy: 0.9701 - val_loss: 0.9642 - val_accuracy: 0.7629\n",
      "Epoch 28/50\n",
      "4375/4375 [==============================] - ETA: 0s - loss: 0.0846 - accuracy: 0.9725\n",
      "Epoch 28: val_accuracy did not improve from 0.76327\n",
      "4375/4375 [==============================] - 141s 32ms/step - loss: 0.0846 - accuracy: 0.9725 - val_loss: 1.0927 - val_accuracy: 0.7461\n",
      "Epoch 29/50\n",
      "4375/4375 [==============================] - ETA: 0s - loss: 0.0821 - accuracy: 0.9740\n",
      "Epoch 29: val_accuracy improved from 0.76327 to 0.76493, saving model to ../model_fit_results/CIFAR-10/AlexNet/2022-02-21_12_48_22/no_augmentation/best_val_acc_weights.h5\n",
      "4375/4375 [==============================] - 143s 33ms/step - loss: 0.0821 - accuracy: 0.9740 - val_loss: 0.9999 - val_accuracy: 0.7649\n",
      "Epoch 30/50\n",
      "4375/4375 [==============================] - ETA: 0s - loss: 0.0715 - accuracy: 0.9775\n",
      "Epoch 30: val_accuracy did not improve from 0.76493\n",
      "4375/4375 [==============================] - 140s 32ms/step - loss: 0.0715 - accuracy: 0.9775 - val_loss: 1.0114 - val_accuracy: 0.7631\n",
      "Epoch 31/50\n",
      "4375/4375 [==============================] - ETA: 0s - loss: 0.0685 - accuracy: 0.9774\n",
      "Epoch 31: val_accuracy improved from 0.76493 to 0.76953, saving model to ../model_fit_results/CIFAR-10/AlexNet/2022-02-21_12_48_22/no_augmentation/best_val_acc_weights.h5\n",
      "4375/4375 [==============================] - 141s 32ms/step - loss: 0.0685 - accuracy: 0.9774 - val_loss: 1.0050 - val_accuracy: 0.7695\n",
      "Epoch 32/50\n",
      "4375/4375 [==============================] - ETA: 0s - loss: 0.0599 - accuracy: 0.9816\n",
      "Epoch 32: val_accuracy did not improve from 0.76953\n",
      "4375/4375 [==============================] - 139s 32ms/step - loss: 0.0599 - accuracy: 0.9816 - val_loss: 1.0362 - val_accuracy: 0.7675\n",
      "Epoch 33/50\n",
      "4375/4375 [==============================] - ETA: 0s - loss: 0.0549 - accuracy: 0.9831\n",
      "Epoch 33: val_accuracy improved from 0.76953 to 0.76987, saving model to ../model_fit_results/CIFAR-10/AlexNet/2022-02-21_12_48_22/no_augmentation/best_val_acc_weights.h5\n",
      "4375/4375 [==============================] - 142s 32ms/step - loss: 0.0549 - accuracy: 0.9831 - val_loss: 1.0361 - val_accuracy: 0.7699\n",
      "Epoch 34/50\n",
      "4375/4375 [==============================] - ETA: 0s - loss: 0.0500 - accuracy: 0.9842\n",
      "Epoch 34: val_accuracy did not improve from 0.76987\n",
      "4375/4375 [==============================] - 141s 32ms/step - loss: 0.0500 - accuracy: 0.9842 - val_loss: 1.0547 - val_accuracy: 0.7677\n",
      "Epoch 35/50\n",
      "4375/4375 [==============================] - ETA: 0s - loss: 0.0500 - accuracy: 0.9843\n",
      "Epoch 35: val_accuracy did not improve from 0.76987\n",
      "4375/4375 [==============================] - 141s 32ms/step - loss: 0.0500 - accuracy: 0.9843 - val_loss: 1.0785 - val_accuracy: 0.7641\n",
      "Epoch 36/50\n",
      "4375/4375 [==============================] - ETA: 0s - loss: 0.0456 - accuracy: 0.9858\n",
      "Epoch 36: val_accuracy did not improve from 0.76987\n",
      "4375/4375 [==============================] - 141s 32ms/step - loss: 0.0456 - accuracy: 0.9858 - val_loss: 1.1710 - val_accuracy: 0.7541\n",
      "Epoch 37/50\n",
      "4375/4375 [==============================] - ETA: 0s - loss: 0.0389 - accuracy: 0.9879\n",
      "Epoch 37: val_accuracy did not improve from 0.76987\n",
      "4375/4375 [==============================] - 141s 32ms/step - loss: 0.0389 - accuracy: 0.9879 - val_loss: 1.1059 - val_accuracy: 0.7673\n",
      "Epoch 38/50\n",
      "4375/4375 [==============================] - ETA: 0s - loss: 0.0401 - accuracy: 0.9880\n",
      "Epoch 38: val_accuracy did not improve from 0.76987\n",
      "4375/4375 [==============================] - 141s 32ms/step - loss: 0.0401 - accuracy: 0.9880 - val_loss: 1.2256 - val_accuracy: 0.7534\n",
      "Epoch 39/50\n",
      "4375/4375 [==============================] - ETA: 0s - loss: 0.0360 - accuracy: 0.9891\n",
      "Epoch 39: val_accuracy improved from 0.76987 to 0.77393, saving model to ../model_fit_results/CIFAR-10/AlexNet/2022-02-21_12_48_22/no_augmentation/best_val_acc_weights.h5\n",
      "4375/4375 [==============================] - 142s 32ms/step - loss: 0.0360 - accuracy: 0.9891 - val_loss: 1.0847 - val_accuracy: 0.7739\n",
      "Epoch 40/50\n",
      "4375/4375 [==============================] - ETA: 0s - loss: 0.0365 - accuracy: 0.9887\n",
      "Epoch 40: val_accuracy improved from 0.77393 to 0.77493, saving model to ../model_fit_results/CIFAR-10/AlexNet/2022-02-21_12_48_22/no_augmentation/best_val_acc_weights.h5\n",
      "4375/4375 [==============================] - 142s 32ms/step - loss: 0.0365 - accuracy: 0.9887 - val_loss: 1.0934 - val_accuracy: 0.7749\n",
      "Epoch 41/50\n",
      "4375/4375 [==============================] - ETA: 0s - loss: 0.0352 - accuracy: 0.9890\n",
      "Epoch 41: val_accuracy did not improve from 0.77493\n",
      "4375/4375 [==============================] - 141s 32ms/step - loss: 0.0352 - accuracy: 0.9890 - val_loss: 1.1001 - val_accuracy: 0.7721\n",
      "Epoch 42/50\n",
      "4375/4375 [==============================] - ETA: 0s - loss: 0.0324 - accuracy: 0.9897\n",
      "Epoch 42: val_accuracy did not improve from 0.77493\n",
      "4375/4375 [==============================] - 141s 32ms/step - loss: 0.0324 - accuracy: 0.9897 - val_loss: 1.1350 - val_accuracy: 0.7683\n",
      "Epoch 43/50\n",
      "4375/4375 [==============================] - ETA: 0s - loss: 0.0302 - accuracy: 0.9910\n",
      "Epoch 43: val_accuracy did not improve from 0.77493\n",
      "4375/4375 [==============================] - 141s 32ms/step - loss: 0.0302 - accuracy: 0.9910 - val_loss: 1.1293 - val_accuracy: 0.7727\n",
      "Epoch 44/50\n",
      "4375/4375 [==============================] - ETA: 0s - loss: 0.0313 - accuracy: 0.9902\n",
      "Epoch 44: val_accuracy did not improve from 0.77493\n",
      "4375/4375 [==============================] - 141s 32ms/step - loss: 0.0313 - accuracy: 0.9902 - val_loss: 1.1188 - val_accuracy: 0.7732\n",
      "Epoch 45/50\n",
      "4375/4375 [==============================] - ETA: 0s - loss: 0.0276 - accuracy: 0.9915\n",
      "Epoch 45: val_accuracy did not improve from 0.77493\n",
      "4375/4375 [==============================] - 141s 32ms/step - loss: 0.0276 - accuracy: 0.9915 - val_loss: 1.1645 - val_accuracy: 0.7715\n",
      "Epoch 46/50\n",
      "4375/4375 [==============================] - ETA: 0s - loss: 0.0277 - accuracy: 0.9915\n",
      "Epoch 46: val_accuracy improved from 0.77493 to 0.77560, saving model to ../model_fit_results/CIFAR-10/AlexNet/2022-02-21_12_48_22/no_augmentation/best_val_acc_weights.h5\n",
      "4375/4375 [==============================] - 142s 32ms/step - loss: 0.0277 - accuracy: 0.9915 - val_loss: 1.1272 - val_accuracy: 0.7756\n",
      "Epoch 47/50\n"
     ]
    },
    {
     "name": "stdout",
     "output_type": "stream",
     "text": [
      "4375/4375 [==============================] - ETA: 0s - loss: 0.0246 - accuracy: 0.9926\n",
      "Epoch 47: val_accuracy did not improve from 0.77560\n",
      "4375/4375 [==============================] - 141s 32ms/step - loss: 0.0246 - accuracy: 0.9926 - val_loss: 1.1567 - val_accuracy: 0.7731\n",
      "Epoch 48/50\n",
      "4375/4375 [==============================] - ETA: 0s - loss: 0.0239 - accuracy: 0.9932\n",
      "Epoch 48: val_accuracy did not improve from 0.77560\n",
      "4375/4375 [==============================] - 141s 32ms/step - loss: 0.0239 - accuracy: 0.9932 - val_loss: 1.1591 - val_accuracy: 0.7705\n",
      "Epoch 49/50\n",
      "4375/4375 [==============================] - ETA: 0s - loss: 0.0243 - accuracy: 0.9925\n",
      "Epoch 49: val_accuracy did not improve from 0.77560\n",
      "4375/4375 [==============================] - 141s 32ms/step - loss: 0.0243 - accuracy: 0.9925 - val_loss: 1.1966 - val_accuracy: 0.7681\n",
      "Epoch 50/50\n",
      "4375/4375 [==============================] - ETA: 0s - loss: 0.0231 - accuracy: 0.9931\n",
      "Epoch 50: val_accuracy did not improve from 0.77560\n",
      "4375/4375 [==============================] - 141s 32ms/step - loss: 0.0231 - accuracy: 0.9931 - val_loss: 1.1929 - val_accuracy: 0.7713\n"
     ]
    }
   ],
   "source": [
    "epochs = 50\n",
    "\n",
    "history = model.fit(train_ds,\n",
    "          epochs=epochs,\n",
    "          validation_data=validation_ds,\n",
    "          validation_freq=1,\n",
    "          callbacks=[checkpoint_cb, time_cb, tensorboard_cb])"
   ]
  },
  {
   "cell_type": "code",
   "execution_count": 23,
   "metadata": {},
   "outputs": [
    {
     "name": "stdout",
     "output_type": "stream",
     "text": [
      "Total fit time was 01:58:30\n"
     ]
    }
   ],
   "source": [
    "import time\n",
    "\n",
    "time_cb.save_fit_times_csv(os.path.join(log_dir, 'fit_times.csv'))\n",
    "print(f'Total fit time was {time.strftime(\"%H:%M:%S\", time.gmtime(time_cb.total_fit_time))}')"
   ]
  },
  {
   "cell_type": "markdown",
   "metadata": {},
   "source": [
    "We are done with fitting the model! Let's quickly load the optimal weights and save that optimal model:"
   ]
  },
  {
   "cell_type": "code",
   "execution_count": 25,
   "metadata": {},
   "outputs": [
    {
     "name": "stdout",
     "output_type": "stream",
     "text": [
      "1250/1250 [==============================] - 12s 10ms/step - loss: 1.1417 - accuracy: 0.7727\n"
     ]
    }
   ],
   "source": [
    "# load optimal model\n",
    "model.load_weights(checkpoint_path)\n",
    "# save it\n",
    "model.save(os.path.join(log_dir, 'Model.h5'))\n",
    "\n",
    "scores = model.evaluate(test_ds, verbose=1)"
   ]
  },
  {
   "cell_type": "markdown",
   "metadata": {},
   "source": [
    "We managed to achieve a test set accuracy of approximately 77%, the prediction took around 12 seconds."
   ]
  },
  {
   "cell_type": "markdown",
   "metadata": {},
   "source": [
    "Let's look at how loss and accuracy developed over the epochs:"
   ]
  },
  {
   "cell_type": "code",
   "execution_count": 27,
   "metadata": {},
   "outputs": [
    {
     "data": {
      "image/png": "[encoded data removed]",
      "text/plain": [
       "<Figure size 1000x600 with 1 Axes>"
      ]
     },
     "metadata": {},
     "output_type": "display_data"
    }
   ],
   "source": [
    "from helper_scripts.deep_learning import plot_loss_and_acc\n",
    "\n",
    "plot_loss_and_acc(history.history, epochs)"
   ]
  },
  {
   "cell_type": "markdown",
   "metadata": {},
   "source": [
    "## Fitting model on augmented data"
   ]
  },
  {
   "cell_type": "markdown",
   "metadata": {},
   "source": [
    "Can we improve our classifier by using data augmentation? Let's find out!"
   ]
  },
  {
   "cell_type": "code",
   "execution_count": null,
   "metadata": {},
   "outputs": [],
   "source": [
    "from keras.preprocessing.image import ImageDataGenerator\n",
    "\n",
    "datagen = ImageDataGenerator(\n",
    "    rotation_range=15,\n",
    "    horizontal_flip=True,\n",
    "    width_shift_range=0.1,\n",
    "    height_shift_range=0.1\n",
    "    )\n",
    "\n",
    "train_ds_np = np.stack(list(train_ds))\n",
    "#datagen.fit(train_ds)# this doesn't work with BatchDataset as input, therefore we needed to convert\n",
    "train_ds_np"
   ]
  },
  {
   "cell_type": "markdown",
   "metadata": {},
   "source": [
    "We create a new AlexNet model:"
   ]
  },
  {
   "cell_type": "code",
   "execution_count": null,
   "metadata": {},
   "outputs": [],
   "source": [
    "aug_model = create_AlexNet()\n",
    "aug_model.compile(loss='sparse_categorical_crossentropy', optimizer=tf.optimizers.SGD(learning_rate=0.001), metrics=['accuracy'])\n",
    "aug_model.summary()"
   ]
  },
  {
   "cell_type": "markdown",
   "metadata": {},
   "source": [
    "Define new callbacks:"
   ]
  },
  {
   "cell_type": "code",
   "execution_count": null,
   "metadata": {},
   "outputs": [],
   "source": [
    "log_dir = os.path.join(root_log_dir, 'with_augmentation')\n",
    "\n",
    "checkpoint_path = os.path.join(log_dir, 'best_val_acc_weights.h5')\n",
    "checkpoint_cb = ModelCheckpoint(filepath=checkpoint_path,\n",
    "                             monitor='val_accuracy',\n",
    "                             verbose=1,\n",
    "                             save_best_only=True)"
   ]
  },
  {
   "cell_type": "code",
   "execution_count": null,
   "metadata": {},
   "outputs": [],
   "source": [
    "time_cb = TimeHistory()"
   ]
  },
  {
   "cell_type": "code",
   "execution_count": null,
   "metadata": {},
   "outputs": [],
   "source": [
    "tensorboard_cb = TensorBoard(os.path.join(log_dir, 'tensorboard'))"
   ]
  },
  {
   "cell_type": "code",
   "execution_count": null,
   "metadata": {},
   "outputs": [],
   "source": [
    "history = aug_model.fit(datagen.flow(train_ds, batch_size=batch_size),\n",
    "                    validation_data=datagen.flow(X_val.reshape(*X_val.shape, 1), y_val, batch_size=batch_size),\n",
    "                    workers=4,\n",
    "                    epochs=epochs, callbacks=[checkpoint_cb, time_cb, tensorboard_cb])\n",
    "\n",
    "history = model.fit(train_ds,\n",
    "          epochs=epochs,\n",
    "          validation_data=validation_ds,\n",
    "          validation_freq=1,\n",
    "          callbacks=[checkpoint_cb, time_cb, tensorboard_cb])"
   ]
  },
  {
   "cell_type": "code",
   "execution_count": null,
   "metadata": {},
   "outputs": [],
   "source": [
    "time_cb.save_fit_times_csv(os.path.join(log_dir, 'fit_times.csv'))\n",
    "print(f'Total fit time was {time.strftime(\"%H:%M:%S\", time.gmtime(time_cb.total_fit_time))}')"
   ]
  },
  {
   "cell_type": "markdown",
   "metadata": {},
   "source": [
    "We are done with fitting the \"augmented\" model! Let's also load the optimal weights and save that optimal model. Then, look at the test set accuracy:"
   ]
  },
  {
   "cell_type": "code",
   "execution_count": null,
   "metadata": {},
   "outputs": [],
   "source": [
    "# load optimal model\n",
    "aug_model.load_weights(checkpoint_path)\n",
    "# save it\n",
    "aug_model.save(os.path.join(log_dir, 'Model.h5'))\n",
    "\n",
    "scores = aug_model.evaluate(test_ds, verbose=1)"
   ]
  },
  {
   "cell_type": "markdown",
   "metadata": {},
   "source": [
    "Let's look at how loss and accuracy developed over the epochs:"
   ]
  },
  {
   "cell_type": "code",
   "execution_count": null,
   "metadata": {},
   "outputs": [],
   "source": [
    "from helper_scripts.deep_learning import plot_loss_and_acc\n",
    "\n",
    "plot_loss_and_acc(history.history, epochs)"
   ]
  },
  {
   "cell_type": "markdown",
   "metadata": {
    "id": "07Gk68W6RJrT"
   },
   "source": [
    "## Evaluation on test data"
   ]
  },
  {
   "cell_type": "code",
   "execution_count": null,
   "metadata": {
    "id": "9h45PymJVnyk",
    "scrolled": true
   },
   "outputs": [],
   "source": [
    "pred_start = time.time()\n",
    "model.evaluate(test_ds)\n",
    "prediction_time = time.time() - pred_start\n",
    "print(f'Prediction took {prediction_time} seconds')"
   ]
  },
  {
   "cell_type": "markdown",
   "metadata": {
    "id": "CNLrigu-4C1M"
   },
   "source": [
    "Let's look at the results in detail:"
   ]
  },
  {
   "cell_type": "code",
   "execution_count": null,
   "metadata": {
    "id": "Hb6EmADbS5hl"
   },
   "outputs": [],
   "source": [
    "y_preds = model.predict(test_ds)# matrix; row: observation, col: prob. for class\n",
    "y_pred = np.argmax(y_preds, axis=1)"
   ]
  },
  {
   "cell_type": "code",
   "execution_count": null,
   "metadata": {
    "id": "ooULrs1xS5hm"
   },
   "outputs": [],
   "source": [
    "y_pred.shape"
   ]
  },
  {
   "cell_type": "code",
   "execution_count": null,
   "metadata": {
    "id": "wD0QdRvRS5hm"
   },
   "outputs": [],
   "source": [
    "y_test = np.concatenate([y for x, y in test_ds], axis=0)"
   ]
  },
  {
   "cell_type": "code",
   "execution_count": null,
   "metadata": {
    "id": "V3XMNIeWS5hm"
   },
   "outputs": [],
   "source": [
    "y_test.shape"
   ]
  },
  {
   "cell_type": "code",
   "execution_count": null,
   "metadata": {
    "id": "V4TZSpK_S5hn"
   },
   "outputs": [],
   "source": [
    "print('Test Data accuracy(%): ', accuracy_score(y_test, y_pred)*100)"
   ]
  },
  {
   "cell_type": "code",
   "execution_count": null,
   "metadata": {
    "id": "lJz1sbwKfww-"
   },
   "outputs": [],
   "source": [
    "cf = confusion_matrix(y_test, y_pred)"
   ]
  },
  {
   "cell_type": "code",
   "execution_count": null,
   "metadata": {
    "colab": {
     "background_save": true
    },
    "id": "CxzR3aP8S5ho"
   },
   "outputs": [],
   "source": [
    "# mapping of numeric label to text label\n",
    "text_labels = { 0:'Airplane',\n",
    "            1:'Automobile', \n",
    "            2:'Bird', \n",
    "            3:'Cat', \n",
    "            4:'Deer', \n",
    "            5:'Dog', \n",
    "            6:'Frog', \n",
    "            7:'Horse', \n",
    "            8:'Ship', \n",
    "            9:'Truck'}"
   ]
  },
  {
   "cell_type": "code",
   "execution_count": null,
   "metadata": {
    "colab": {
     "background_save": true
    },
    "id": "P-HmuY39fww-",
    "scrolled": false
   },
   "outputs": [],
   "source": [
    "keys, values = zip(*text_labels.items())\n",
    "df_cm = pd.DataFrame(cf, index = values,  columns = values)\n",
    "plt.figure(figsize = (16,12))\n",
    "sns.heatmap(df_cm, annot=True, fmt='g')\n",
    "plt.show()"
   ]
  },
  {
   "cell_type": "code",
   "execution_count": null,
   "metadata": {
    "colab": {
     "background_save": true
    },
    "id": "e7wDlR8Ffww_"
   },
   "outputs": [],
   "source": [
    "print(classification_report(y_test, y_pred, labels=keys, target_names=values))"
   ]
  },
  {
   "cell_type": "code",
   "execution_count": null,
   "metadata": {},
   "outputs": [],
   "source": []
  }
 ],
 "metadata": {
  "colab": {
   "collapsed_sections": [],
   "name": "AlexNet_CIFAR-10.ipynb",
   "provenance": [
    {
     "file_id": "1juRbpYpaKeXsGN8dhyxkU85VdnVFG3vN",
     "timestamp": 1645213589413
    }
   ],
   "version": ""
  },
  "kernelspec": {
   "display_name": "Python 3",
   "language": "python",
   "name": "python3"
  },
  "language_info": {
   "codemirror_mode": {
    "name": "ipython",
    "version": 3
   },
   "file_extension": ".py",
   "mimetype": "text/x-python",
   "name": "python",
   "nbconvert_exporter": "python",
   "pygments_lexer": "ipython3",
   "version": "3.8.10"
  }
 },
 "nbformat": 4,
 "nbformat_minor": 1
}
